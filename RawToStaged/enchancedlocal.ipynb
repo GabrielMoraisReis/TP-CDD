{
 "cells": [
  {
   "cell_type": "code",
   "execution_count": 6,
   "source": [
    "import pandas as pd\r\n",
    "import numpy as np\r\n",
    "\r\n",
    "df = pd.read_csv(\"Microdados_Educação_Superior_2019\\dados\\SUP_LOCAL_OFERTA_2019.CSV\", sep='|', index_col=False, header=0, encoding=\"cp860\")"
   ],
   "outputs": [],
   "metadata": {}
  },
  {
   "cell_type": "code",
   "execution_count": 7,
   "source": [
    "labels = [\"IN_LOCAL_OFERTA_UAB\", \"IN_LOCAL_OFERTA_POLO\", \"QT_COMPUTADOR_DISCENTE\", \"IN_ACESSIBILIDADE\", \"IN_SINALIZACAO_TATIL\", \"IN_RAMPA_ACESSO_CORRIMAO\", \"IN_ENTRADA_SAIDA_DIMENSAO\", \"IN_AMBIENTE_DESOBSTRUIDO\", \"IN_SINALIZACAO_SONORA\", \"IN_SINALIZACAO_VISUAL\", \"IN_EQUIPAMENTO_ELETROMECANICO\", \"IN_BANHEIRO_ADAPTADO\", \"IN_ESPACO_ATENDIMENTO_ADAPTADO\", \"IN_MOBILIARIO_ADAPTADO\", \"IN_BEBEDOURO_LAVABO_ADAPTADO\", \"IN_RESTAURANTE_UNIVERSITARIO\", \"IN_QUADRA_POLIESPORTIVA\", \"IN_PISCINA\", \"IN_QUADRA_COBERTA_GINASIO\", \"IN_CINEMA\", \"IN_VESTIARIO\", \"IN_SERVICOS\", \"IN_ESTACIONAMENTO_DOCENTE\", \"IN_CANTINA_LANCHONETE\", \"IN_PISTA_ATLETISMO\", \"IN_CAMPO_PRATICA_ESPORTIVA\", \"IN_AUDITORIO_TEATRO\", \"IN_REDE_SEM_FIO_COMU_ACADEMICA\", \"IN_POSTO_ATENDIMENTO_1_SOCORRO\", \"IN_BICICLETARIO\", \"IN_ESTACIONAMENTO_ALUNO\", \"IN_MORADIA_ESTUDANTIL\", \"IN_EQUIPA_VIDEOCONFERENCIA\", \"IN_SALA_COORDENACAO_POLO\", \"IN_MICROCOMPUTADOR\", \"IN_POSSUI_INTERNET_BANDA_LARGA\", \"IN_SALA_ATENDIMENTO_TUTOR\"]\r\n",
    "df = df.drop(labels=labels, axis=1) #remove as colunas não necessárias"
   ],
   "outputs": [],
   "metadata": {}
  },
  {
   "cell_type": "code",
   "execution_count": 8,
   "source": [
    "df = df.drop_duplicates()"
   ],
   "outputs": [],
   "metadata": {}
  },
  {
   "cell_type": "code",
   "execution_count": 9,
   "source": [
    "df.to_csv(\"TreatedDfs/enchacedlocal.csv\", sep=\",\", index=False)"
   ],
   "outputs": [],
   "metadata": {}
  }
 ],
 "metadata": {
  "orig_nbformat": 4,
  "language_info": {
   "name": "python",
   "version": "3.8.10",
   "mimetype": "text/x-python",
   "codemirror_mode": {
    "name": "ipython",
    "version": 3
   },
   "pygments_lexer": "ipython3",
   "nbconvert_exporter": "python",
   "file_extension": ".py"
  },
  "kernelspec": {
   "name": "python3",
   "display_name": "Python 3.8.10 64-bit ('AmbienteCDD': venv)"
  },
  "interpreter": {
   "hash": "54ccaebadced9a3a65c790a821397dcedae60905347fd68185f7881edd617ae6"
  }
 },
 "nbformat": 4,
 "nbformat_minor": 2
}