{
 "cells": [
  {
   "cell_type": "code",
   "execution_count": 1,
   "source": [
    "import pandas as pd\r\n",
    "import numpy as np\r\n",
    "\r\n",
    "df = pd.read_csv(\"Microdados_Educação_Superior_2019\\dados\\SUP_CURSO_2019.CSV\", sep='|', index_col=False, header=0, encoding=\"cp860\")"
   ],
   "outputs": [],
   "metadata": {}
  },
  {
   "cell_type": "code",
   "execution_count": 2,
   "source": [
    "labels = [\"TP_NIVEL_ACADEMICO\", \"DT_INICIO_FUNCIONAMENTO\", \"DT_AUTORIZACAO_CURSO\", \"IN_MATERIAL_DIGITAL\", \"IN_MATERIAL_AMPLIADO\", \"IN_MATERIAL_TATIL\", \"IN_MATERIAL_IMPRESSO\", \"IN_MATERIAL_AUDIO\", \"IN_MATERIAL_BRAILLE\", \"IN_MATERIAL_LIBRAS\", \"IN_DISCIPLINA_LIBRAS\", \"IN_TRADUTOR_LIBRAS\", \"IN_GUIA_INTERPRETE\", \"IN_RECURSOS_COMUNICACAO\", \"IN_RECURSOS_INFORMATICA\", \"IN_OFERECE_DISC_SEMI_PRES\", \"NU_PERC_CARGA_SEMI_PRES\", \"IN_POSSUI_LABORATORIO\",\"QT_INSC_VAGA_NOVA_INTEGRAL\",\"QT_INSC_VAGA_NOVA_MATUTINO\",\"QT_INSC_VAGA_NOVA_VESPERTINO\",\"QT_INSC_VAGA_NOVA_NOTURNO\",\"QT_INSC_VAGA_NOVA_EAD\",\"QT_INSC_VAGA_REMAN_INTEGRAL\",\"QT_INSC_VAGA_REMAN_MATUTINO\",\"QT_INSC_VAGA_REMAN_VESPERTINO\",\"QT_INSC_VAGA_REMAN_NOTURNO\",\"QT_INSC_VAGA_REMAN_EAD\",\"QT_INSC_PROG_ESP_INTEGRAL\",\"QT_INSC_PROG_ESP_MATUTINO\",\"QT_INSC_PROG_ESP_VESPERTINO\",\"QT_INSC_PROG_ESP_NOTURNO\",\"QT_INSC_PROG_ESP_EAD\",\"QT_INSC_PRINCIPAL_INTEGRAL\",\"QT_INSC_PRINCIPAL_MATUTINO\",\"QT_INSC_PRINCIPAL_VESPERTINO\",\"QT_INSC_PRINCIPAL_NOTURNO\",\"QT_INSC_PRINCIPAL_EAD\",\"QT_INSC_OUTRA_VAGA_INTEGRAL\",\"QT_INSC_OUTRA_VAGA_MATUTINO\",\"QT_INSC_OUTRA_VAGA_VESPERTINO\",\"QT_INSC_OUTRA_VAGA_NOTURNO\",\"QT_INSC_OUTRA_VAGA_EAD\",\"QT_INSC_ANUAL_INTEGRAL\",\"QT_INSC_ANUAL_MATUTINO\",\"QT_INSC_ANUAL_VESPERTINO\",\"QT_INSC_ANUAL_NOTURNO\",\"QT_INSC_ANUAL_EAD\",\"QT_VAGAS_NOVAS_INTEGRAL\",\"QT_VAGAS_NOVAS_MATUTINO\",\"QT_VAGAS_NOVAS_VESPERTINO\",\"QT_VAGAS_NOVAS_NOTURNO\",\"QT_VAGAS_NOVAS_EAD\",\"QT_VAGAS_REMAN_INTEGRAL\",\"QT_VAGAS_REMAN_MATUTINO\",\"QT_VAGAS_REMAN_VESPERTINO\",\"QT_VAGAS_REMAN_NOTURNO\",\"QT_VAGAS_REMAN_EAD\",\"QT_VAGAS_PROG_ESP_INTEGRAL\",\"QT_VAGAS_PROG_ESP_MATUTINO\",\"QT_VAGAS_PROG_ESP_VESPERTINO\",\"QT_VAGAS_PROG_ESP_NOTURNO\",\"QT_VAGAS_PROG_ESP_EAD\",\"QT_VAGAS_PRINCIPAL_INTEGRAL\",\"QT_VAGAS_PRINCIPAL_MATUTINO\",\"QT_VAGAS_PRINCIPAL_VESPERTINO\",\"QT_VAGAS_PRINCIPAL_NOTURNO\",\"QT_VAGAS_PRINCIPAL_EAD\",\"QT_VAGAS_OUTRAS_INTEGRAL\",\"QT_VAGAS_OUTRAS_MATUTINO\",\"QT_VAGAS_OUTRAS_VESPERTINO\",\"QT_VAGAS_OUTRAS_NOTURNO\",\"QT_VAGAS_OUTRAS_EAD\",\"QT_VAGAS_ANUAL_INTEGRAL\",\"QT_VAGAS_ANUAL_MATUTINO\",\"QT_VAGAS_ANUAL_VESPERTINO\",\"QT_VAGAS_ANUAL_NOTURNO\",\"QT_VAGAS_ANUAL_EAD\"]\r\n",
    "df = df.drop(labels=labels, axis=1) #remove as colunas não necessárias"
   ],
   "outputs": [],
   "metadata": {}
  },
  {
   "cell_type": "code",
   "execution_count": 3,
   "source": [
    "df = df.drop_duplicates()"
   ],
   "outputs": [],
   "metadata": {}
  },
  {
   "cell_type": "code",
   "execution_count": 4,
   "source": [
    "df.to_csv(\"TreatedDfs/enchacedcurso.csv\", sep=\",\", index=False)\r\n"
   ],
   "outputs": [],
   "metadata": {}
  }
 ],
 "metadata": {
  "orig_nbformat": 4,
  "language_info": {
   "name": "python",
   "version": "3.8.10",
   "mimetype": "text/x-python",
   "codemirror_mode": {
    "name": "ipython",
    "version": 3
   },
   "pygments_lexer": "ipython3",
   "nbconvert_exporter": "python",
   "file_extension": ".py"
  },
  "kernelspec": {
   "name": "python3",
   "display_name": "Python 3.8.10 64-bit ('AmbienteCDD': venv)"
  },
  "interpreter": {
   "hash": "54ccaebadced9a3a65c790a821397dcedae60905347fd68185f7881edd617ae6"
  }
 },
 "nbformat": 4,
 "nbformat_minor": 2
}