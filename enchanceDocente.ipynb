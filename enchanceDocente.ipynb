{
 "cells": [
  {
   "cell_type": "code",
   "execution_count": 9,
   "source": [
    "import pandas as pd\r\n",
    "import numpy as np\r\n",
    "\r\n",
    "df = pd.read_csv(\"Microdados_Educação_Superior_2019\\dados\\SUP_DOCENTE_2019.CSV\", sep='|', index_col=False, header=0, encoding=\"cp860\")"
   ],
   "outputs": [],
   "metadata": {}
  },
  {
   "cell_type": "code",
   "execution_count": 10,
   "source": [
    "labels = [\"TP_REGIME_TRABALHO\", \"TP_COR_RACA\", \"TP_NACIONALIDADE\", \"CO_UF_NASCIMENTO\", \"CO_MUNICIPIO_NASCIMENTO\", \"IN_DEFICIENCIA\", \"IN_DEFICIENCIA_CEGUEIRA\", \"IN_DEFICIENCIA_BAIXA_VISAO\", \"IN_DEFICIENCIA_SURDEZ\", \"IN_DEFICIENCIA_AUDITIVA\", \"IN_DEFICIENCIA_FISICA\", \"IN_DEFICIENCIA_SURDOCEGUEIRA\", \"IN_DEFICIENCIA_MULTIPLA\", \"IN_DEFICIENCIA_INTELECTUAL\", \"IN_ATUACAO_GESTAO\", \"IN_ATUACAO_SEQUENCIAL\", \"IN_EXERCICIO_DATA_REFERENCIA\", \"IN_VISITANTE\", \"TP_VISITANTE_IFES_VINCULO\", \"CO_PAIS_ORIGEM\"]\r\n",
    "df = df.drop(labels=labels, axis=1)"
   ],
   "outputs": [],
   "metadata": {}
  },
  {
   "cell_type": "code",
   "execution_count": 11,
   "source": [
    "df = df.drop_duplicates()"
   ],
   "outputs": [],
   "metadata": {}
  },
  {
   "cell_type": "code",
   "execution_count": 12,
   "source": [
    "df.to_csv(\"TreatedDfs/enchaceddocente.csv\", sep=\",\", index=False)"
   ],
   "outputs": [],
   "metadata": {}
  }
 ],
 "metadata": {
  "orig_nbformat": 4,
  "language_info": {
   "name": "python",
   "version": "3.8.10",
   "mimetype": "text/x-python",
   "codemirror_mode": {
    "name": "ipython",
    "version": 3
   },
   "pygments_lexer": "ipython3",
   "nbconvert_exporter": "python",
   "file_extension": ".py"
  },
  "kernelspec": {
   "name": "python3",
   "display_name": "Python 3.8.10 64-bit ('AmbienteCDD': venv)"
  },
  "interpreter": {
   "hash": "54ccaebadced9a3a65c790a821397dcedae60905347fd68185f7881edd617ae6"
  }
 },
 "nbformat": 4,
 "nbformat_minor": 2
}