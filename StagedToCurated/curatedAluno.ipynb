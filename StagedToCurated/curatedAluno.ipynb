{
 "cells": [
  {
   "cell_type": "code",
   "execution_count": 1,
   "source": [
    "import pandas as pd\r\n",
    "import numpy as np\r\n",
    "\r\n",
    "df_chunks = pd.read_csv(r\"C:\\Users\\gmora\\OneDrive\\Área de Trabalho\\Faculdade\\CDD\\TP\\TreatedDfs\\Staged\\enchacedaluno.csv\", index_col=False, header=0, na_filter=False, chunksize=100000)"
   ],
   "outputs": [],
   "metadata": {}
  },
  {
   "cell_type": "code",
   "execution_count": 2,
   "source": [
    "chunk_list = []\r\n",
    "for chunk in df_chunks:\r\n",
    "    chunk_list.append(chunk.drop(chunk[(chunk['NU_ANO_CENSO'] == 2009) | (chunk['NU_ANO_CENSO'] == 2010) | (chunk['TP_COR_RACA'] == 9) | (chunk['TP_COR_RACA'] == 0) | (chunk['IN_DEFICIENCIA'] == 9) | (chunk['TP_SITUACAO'] == 'Falecido')].index))\r\n",
    "\r\n",
    "df_concat = pd.concat(chunk_list)\r\n",
    "df_concat.to_csv(r\"C:\\Users\\gmora\\OneDrive\\Área de Trabalho\\Faculdade\\CDD\\TP\\TreatedDfs\\Curated/Aluno.csv\", index=False, chunksize=10000)\r\n",
    "\r\n",
    "    \r\n",
    "    \r\n"
   ],
   "outputs": [
    {
     "output_type": "stream",
     "name": "stderr",
     "text": [
      "c:\\Users\\gmora\\OneDrive\\Área de Trabalho\\Faculdade\\CDD\\AmbienteCDD\\lib\\site-packages\\IPython\\core\\interactiveshell.py:3361: DtypeWarning: Columns (40) have mixed types.Specify dtype option on import or set low_memory=False.\n",
      "  if (await self.run_code(code, result,  async_=asy)):\n",
      "c:\\Users\\gmora\\OneDrive\\Área de Trabalho\\Faculdade\\CDD\\AmbienteCDD\\lib\\site-packages\\IPython\\core\\interactiveshell.py:3361: DtypeWarning: Columns (38) have mixed types.Specify dtype option on import or set low_memory=False.\n",
      "  if (await self.run_code(code, result,  async_=asy)):\n",
      "c:\\Users\\gmora\\OneDrive\\Área de Trabalho\\Faculdade\\CDD\\AmbienteCDD\\lib\\site-packages\\IPython\\core\\interactiveshell.py:3361: DtypeWarning: Columns (5) have mixed types.Specify dtype option on import or set low_memory=False.\n",
      "  if (await self.run_code(code, result,  async_=asy)):\n",
      "c:\\Users\\gmora\\OneDrive\\Área de Trabalho\\Faculdade\\CDD\\AmbienteCDD\\lib\\site-packages\\IPython\\core\\interactiveshell.py:3361: DtypeWarning: Columns (5,7) have mixed types.Specify dtype option on import or set low_memory=False.\n",
      "  if (await self.run_code(code, result,  async_=asy)):\n",
      "c:\\Users\\gmora\\OneDrive\\Área de Trabalho\\Faculdade\\CDD\\AmbienteCDD\\lib\\site-packages\\IPython\\core\\interactiveshell.py:3361: DtypeWarning: Columns (5,40) have mixed types.Specify dtype option on import or set low_memory=False.\n",
      "  if (await self.run_code(code, result,  async_=asy)):\n",
      "c:\\Users\\gmora\\OneDrive\\Área de Trabalho\\Faculdade\\CDD\\AmbienteCDD\\lib\\site-packages\\IPython\\core\\interactiveshell.py:3361: DtypeWarning: Columns (5,38) have mixed types.Specify dtype option on import or set low_memory=False.\n",
      "  if (await self.run_code(code, result,  async_=asy)):\n",
      "c:\\Users\\gmora\\OneDrive\\Área de Trabalho\\Faculdade\\CDD\\AmbienteCDD\\lib\\site-packages\\IPython\\core\\interactiveshell.py:3361: DtypeWarning: Columns (7) have mixed types.Specify dtype option on import or set low_memory=False.\n",
      "  if (await self.run_code(code, result,  async_=asy)):\n",
      "c:\\Users\\gmora\\OneDrive\\Área de Trabalho\\Faculdade\\CDD\\AmbienteCDD\\lib\\site-packages\\IPython\\core\\interactiveshell.py:3361: DtypeWarning: Columns (5,37) have mixed types.Specify dtype option on import or set low_memory=False.\n",
      "  if (await self.run_code(code, result,  async_=asy)):\n",
      "c:\\Users\\gmora\\OneDrive\\Área de Trabalho\\Faculdade\\CDD\\AmbienteCDD\\lib\\site-packages\\IPython\\core\\interactiveshell.py:3361: DtypeWarning: Columns (38,40) have mixed types.Specify dtype option on import or set low_memory=False.\n",
      "  if (await self.run_code(code, result,  async_=asy)):\n"
     ]
    }
   ],
   "metadata": {}
  }
 ],
 "metadata": {
  "orig_nbformat": 4,
  "language_info": {
   "name": "python",
   "version": "3.8.10",
   "mimetype": "text/x-python",
   "codemirror_mode": {
    "name": "ipython",
    "version": 3
   },
   "pygments_lexer": "ipython3",
   "nbconvert_exporter": "python",
   "file_extension": ".py"
  },
  "kernelspec": {
   "name": "python3",
   "display_name": "Python 3.8.10 64-bit ('AmbienteCDD': venv)"
  },
  "interpreter": {
   "hash": "54ccaebadced9a3a65c790a821397dcedae60905347fd68185f7881edd617ae6"
  }
 },
 "nbformat": 4,
 "nbformat_minor": 2
}