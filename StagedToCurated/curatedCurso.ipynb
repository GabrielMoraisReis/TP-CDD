{
 "cells": [
  {
   "cell_type": "code",
   "execution_count": 64,
   "source": [
    "import pandas as pd\r\n",
    "import numpy as np\r\n",
    "\r\n",
    "df_chunks = pd.read_csv(r\"C:\\Users\\gmora\\OneDrive\\Área de Trabalho\\Faculdade\\CDD\\TP\\TreatedDfs\\Staged\\enchacedaluno.csv\", index_col=False, header=0, na_filter=False, chunksize=100000)"
   ],
   "outputs": [],
   "metadata": {}
  },
  {
   "cell_type": "code",
   "execution_count": 74,
   "source": [
    "for chunk in df_chunks:\r\n",
    "    print(chunk.dtypes)\r\n",
    "    break"
   ],
   "outputs": [
    {
     "output_type": "stream",
     "name": "stdout",
     "text": [
      "NU_ANO_CENSO                        int64\n",
      "CO_IES                              int64\n",
      "TP_CATEGORIA_ADMINISTRATIVA         int64\n",
      "TP_ORGANIZACAO_ACADEMICA            int64\n",
      "CO_CURSO                            int64\n",
      "CO_CURSO_POLO                      object\n",
      "TP_MODALIDADE_ENSINO                int64\n",
      "CO_CINE_ROTULO                     object\n",
      "ID_ALUNO                           object\n",
      "CO_ALUNO_CURSO                      int64\n",
      "CO_ALUNO_CURSO_ORIGEM              object\n",
      "TP_COR_RACA                         int64\n",
      "TP_SEXO                             int64\n",
      "NU_IDADE                            int64\n",
      "IN_DEFICIENCIA                      int64\n",
      "IN_TGD_SINDROME_ASPERGER           object\n",
      "TP_SITUACAO                         int64\n",
      "QT_CARGA_HORARIA_INTEG              int64\n",
      "DT_INGRESSO_CURSO                  object\n",
      "IN_INGRESSO_VESTIBULAR              int64\n",
      "IN_INGRESSO_ENEM                    int64\n",
      "IN_INGRESSO_AVALIACAO_SERIADA       int64\n",
      "IN_INGRESSO_SELECAO_SIMPLIFICA      int64\n",
      "IN_INGRESSO_OUTRO_TIPO_SELECAO     object\n",
      "IN_INGRESSO_VAGA_REMANESC           int64\n",
      "IN_INGRESSO_VAGA_PROG_ESPECIAL      int64\n",
      "IN_INGRESSO_TRANSF_EXOFFICIO        int64\n",
      "IN_INGRESSO_DECISAO_JUDICIAL        int64\n",
      "IN_INGRESSO_CONVENIO_PECG           int64\n",
      "IN_INGRESSO_EGRESSO                 int64\n",
      "IN_INGRESSO_OUTRA_FORMA            object\n",
      "IN_RESERVA_VAGAS                    int64\n",
      "IN_RESERVA_ETNICO                  object\n",
      "IN_RESERVA_DEFICIENCIA             object\n",
      "IN_RESERVA_ENSINO_PUBLICO          object\n",
      "IN_RESERVA_RENDA_FAMILIAR          object\n",
      "IN_RESERVA_OUTRA                   object\n",
      "IN_FIN_REEMB_MUNICIPAL             object\n",
      "IN_COMPLEMENTAR_EXTENSAO           object\n",
      "TP_SEMESTRE_CONCLUSAO              object\n",
      "IN_MOBILIDADE_ACADEMICA           float64\n",
      "CO_IES_DESTINO                     object\n",
      "IN_MATRICULA                        int64\n",
      "IN_CONCLUINTE                       int64\n",
      "IN_INGRESSO_PROCESSO_SELETIVO      object\n",
      "dtype: object\n"
     ]
    },
    {
     "output_type": "stream",
     "name": "stderr",
     "text": [
      "c:\\Users\\gmora\\OneDrive\\Área de Trabalho\\Faculdade\\CDD\\AmbienteCDD\\lib\\site-packages\\IPython\\core\\interactiveshell.py:3361: DtypeWarning: Columns (5) have mixed types.Specify dtype option on import or set low_memory=False.\n",
      "  if (await self.run_code(code, result,  async_=asy)):\n"
     ]
    }
   ],
   "metadata": {}
  },
  {
   "cell_type": "code",
   "execution_count": 71,
   "source": [
    "chunk_list = []\r\n",
    "for chunk in df_chunks:\r\n",
    "    chunk_list.append(chunk.drop(chunk[(chunk.TP_COR_RACA == 9) | (chunk.TP_COR_RACA == 0) | (chunk.IN_DEFICIENCIA == 9) | (chunk.)])\r\n",
    "    \r\n",
    "    \r\n"
   ],
   "outputs": [
    {
     "output_type": "stream",
     "name": "stderr",
     "text": [
      "c:\\Users\\gmora\\OneDrive\\Área de Trabalho\\Faculdade\\CDD\\AmbienteCDD\\lib\\site-packages\\IPython\\core\\interactiveshell.py:3361: DtypeWarning: Columns (5) have mixed types.Specify dtype option on import or set low_memory=False.\n",
      "  if (await self.run_code(code, result,  async_=asy)):\n"
     ]
    },
    {
     "output_type": "error",
     "ename": "AttributeError",
     "evalue": "'numpy.ndarray' object has no attribute 'value_counts'",
     "traceback": [
      "\u001b[1;31m---------------------------------------------------------------------------\u001b[0m",
      "\u001b[1;31mAttributeError\u001b[0m                            Traceback (most recent call last)",
      "\u001b[1;32m~\\AppData\\Local\\Temp/ipykernel_10328/1950515853.py\u001b[0m in \u001b[0;36m<module>\u001b[1;34m\u001b[0m\n\u001b[0;32m      1\u001b[0m \u001b[0mcheck\u001b[0m \u001b[1;33m=\u001b[0m \u001b[1;33m[\u001b[0m\u001b[1;34m'chunk.TP_COR_RACA'\u001b[0m\u001b[1;33m]\u001b[0m\u001b[1;33m\u001b[0m\u001b[1;33m\u001b[0m\u001b[0m\n\u001b[0;32m      2\u001b[0m \u001b[1;32mfor\u001b[0m \u001b[0mchunk\u001b[0m \u001b[1;32min\u001b[0m \u001b[0mdf_chunks\u001b[0m\u001b[1;33m:\u001b[0m\u001b[1;33m\u001b[0m\u001b[1;33m\u001b[0m\u001b[0m\n\u001b[1;32m----> 3\u001b[1;33m     \u001b[0mtemp\u001b[0m \u001b[1;33m=\u001b[0m \u001b[0mpd\u001b[0m\u001b[1;33m.\u001b[0m\u001b[0misnull\u001b[0m\u001b[1;33m(\u001b[0m\u001b[0mcheck\u001b[0m\u001b[1;33m)\u001b[0m\u001b[1;33m.\u001b[0m\u001b[0mvalue_counts\u001b[0m\u001b[1;33m(\u001b[0m\u001b[1;33m)\u001b[0m\u001b[1;33m\u001b[0m\u001b[1;33m\u001b[0m\u001b[0m\n\u001b[0m\u001b[0;32m      4\u001b[0m     \u001b[1;31m# if len(temp) > 1:\u001b[0m\u001b[1;33m\u001b[0m\u001b[1;33m\u001b[0m\u001b[1;33m\u001b[0m\u001b[0m\n\u001b[0;32m      5\u001b[0m     \u001b[1;31m#     print(temp)\u001b[0m\u001b[1;33m\u001b[0m\u001b[1;33m\u001b[0m\u001b[1;33m\u001b[0m\u001b[0m\n",
      "\u001b[1;31mAttributeError\u001b[0m: 'numpy.ndarray' object has no attribute 'value_counts'"
     ]
    }
   ],
   "metadata": {}
  },
  {
   "cell_type": "code",
   "execution_count": null,
   "source": [],
   "outputs": [],
   "metadata": {}
  }
 ],
 "metadata": {
  "orig_nbformat": 4,
  "language_info": {
   "name": "python",
   "version": "3.8.10",
   "mimetype": "text/x-python",
   "codemirror_mode": {
    "name": "ipython",
    "version": 3
   },
   "pygments_lexer": "ipython3",
   "nbconvert_exporter": "python",
   "file_extension": ".py"
  },
  "kernelspec": {
   "name": "python3",
   "display_name": "Python 3.8.10 64-bit ('AmbienteCDD': venv)"
  },
  "interpreter": {
   "hash": "54ccaebadced9a3a65c790a821397dcedae60905347fd68185f7881edd617ae6"
  }
 },
 "nbformat": 4,
 "nbformat_minor": 2
}