{
 "cells": [
  {
   "cell_type": "markdown",
   "source": [
    "# Pergunta 9\r\n",
    "\r\n",
    "### Qual o curso com maior desvio padrão em relação às idades dos matriculados?\r\n"
   ],
   "metadata": {}
  },
  {
   "cell_type": "code",
   "execution_count": 62,
   "source": [
    "import pandas as pd"
   ],
   "outputs": [],
   "metadata": {}
  },
  {
   "cell_type": "code",
   "execution_count": 63,
   "source": [
    "alumn_column = [\"CO_CINE_ROTULO\", \"NU_IDADE\"]\r\n",
    "alunos = pd.read_csv(r\"C:\\Users\\arthu\\Desktop\\TpDados\\Aluno.csv\", index_col=False, header=0, usecols=alumn_column, dtype={\"CO_CINE_ROTULO\": str} )"
   ],
   "outputs": [],
   "metadata": {}
  },
  {
   "cell_type": "code",
   "execution_count": 64,
   "source": [
    "cine_columns = [\"CO_CINE_ROTULO\", \"NO_CINE_ROTULO\"]\r\n",
    "cine = pd.read_csv(r\"C:\\Users\\arthu\\Desktop\\TpDados\\CINE.CSV\", sep ='|', encoding=\"cp860\", index_col=False, header=0, usecols=cine_columns)"
   ],
   "outputs": [],
   "metadata": {}
  },
  {
   "cell_type": "code",
   "execution_count": 65,
   "source": [
    "alunos = alunos.merge(cine, on=\"CO_CINE_ROTULO\", how='left') # Demos um merge da tabela de alunos com a tabela de cine para pegar o nome do curso"
   ],
   "outputs": [],
   "metadata": {}
  },
  {
   "cell_type": "code",
   "execution_count": 66,
   "source": [
    "alunos_grouped = alunos.groupby(\"NO_CINE_ROTULO\").std() # Agrupamos pelo nome do curso e depois realizamos o desvio padrão\r\n",
    "std_max = alunos_grouped.max() # Maior desvio padrão\r\n",
    "\r\n",
    "print(alunos_grouped[alunos_grouped[\"NU_IDADE\"] == std_max[0]])"
   ],
   "outputs": [
    {
     "output_type": "stream",
     "name": "stdout",
     "text": [
      "                        NU_IDADE\n",
      "NO_CINE_ROTULO                  \n",
      "Comunicaτπo assistiva  18.193405\n"
     ]
    }
   ],
   "metadata": {}
  },
  {
   "cell_type": "markdown",
   "source": [
    "# Pergunta 10\r\n",
    "\r\n",
    "### Quais os top 10 cursos que têm as idades médias mais baixas? E a mais altas?"
   ],
   "metadata": {}
  },
  {
   "cell_type": "code",
   "execution_count": 77,
   "source": [
    "alunos_grouped = alunos.groupby(\"NO_CINE_ROTULO\").mean() # Agrupamos pelo nome do curso e depois realizamos a média\r\n",
    "mean_max = alunos_grouped.max() # Maior média\r\n",
    "mean_min = alunos_grouped.min() # Menor média"
   ],
   "outputs": [],
   "metadata": {}
  },
  {
   "cell_type": "code",
   "execution_count": 78,
   "source": [
    "top10Max = alunos_grouped.sort_values(by=\"NU_IDADE\", ascending=False).head(10) # Organização dos 10 cursos com maior média de idade\r\n",
    "\r\n",
    "print(top10Max)"
   ],
   "outputs": [
    {
     "output_type": "stream",
     "name": "stdout",
     "text": [
      "                                          NU_IDADE\n",
      "NO_CINE_ROTULO                                    \n",
      "CiΩncias da religiπo                     40.050228\n",
      "Educaτπo especial formaτπo de professor  39.789462\n",
      "Seguranτa no trΓnsito                    38.872881\n",
      "Podologia                                38.813048\n",
      "Produτπo de cerveja                      38.585624\n",
      "Gerontologia                             38.394387\n",
      "Teologia                                 38.182078\n",
      "Gestπo da sa·de                          37.508197\n",
      "Neg≤cios imobilißrios                    37.389013\n",
      "Ensino religioso formaτπo de professor   36.505843\n"
     ]
    }
   ],
   "metadata": {}
  },
  {
   "cell_type": "code",
   "execution_count": 79,
   "source": [
    "top10Min = alunos_grouped.sort_values(by=\"NU_IDADE\", ascending=True).head(10) # Organização dos 10 cursos com menor média de idade\r\n",
    "\r\n",
    "print(top10Min)"
   ],
   "outputs": [
    {
     "output_type": "stream",
     "name": "stdout",
     "text": [
      "                                                  NU_IDADE\n",
      "NO_CINE_ROTULO                                            \n",
      "ABI Engenharia, produτπo e construτπo            21.257483\n",
      "Engenharia de biotecnologia                      21.984169\n",
      "Engenharia de nanotecnologia                     22.129032\n",
      "Bioquφmica                                       22.278125\n",
      "ABI CiΩncias naturais, matemßtica e estatφstica  22.457541\n",
      "Engenharia de biossistemas                       22.485163\n",
      "Fφsica aplicada                                  22.493934\n",
      "Biotecnologia                                    22.688978\n",
      "Engenharia de bioprocessos                       22.756470\n",
      "Gestπo de neg≤cios internacionais                22.789548\n"
     ]
    }
   ],
   "metadata": {}
  }
 ],
 "metadata": {
  "orig_nbformat": 4,
  "language_info": {
   "name": "python",
   "version": "3.9.7",
   "mimetype": "text/x-python",
   "codemirror_mode": {
    "name": "ipython",
    "version": 3
   },
   "pygments_lexer": "ipython3",
   "nbconvert_exporter": "python",
   "file_extension": ".py"
  },
  "kernelspec": {
   "name": "python3",
   "display_name": "Python 3.9.7 64-bit (windows store)"
  },
  "interpreter": {
   "hash": "43972f2191752b34f8cc30ab4b512c8b6f9f084947ecf0a8cf440b7fc9187358"
  }
 },
 "nbformat": 4,
 "nbformat_minor": 2
}