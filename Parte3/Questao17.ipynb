{
 "cells": [
  {
   "cell_type": "markdown",
   "source": [
    "# Pergunta 17\r\n",
    "\r\n",
    "### Qual o top 5 cursos mais concorridos? Em quais faculdades a concorrência por esses cursos é maior?"
   ],
   "metadata": {}
  },
  {
   "cell_type": "code",
   "execution_count": 53,
   "source": [
    "import pandas as pd"
   ],
   "outputs": [],
   "metadata": {}
  },
  {
   "cell_type": "code",
   "execution_count": 40,
   "source": [
    "curso_column = [\"CO_CINE_ROTULO\", \"QT_INSCRITO_TOTAL\", \"QT_VAGA_TOTAL\"]\r\n",
    "curso = pd.read_csv(r\"C:\\Users\\arthu\\Desktop\\TpDados\\Curso.csv\", index_col=False, header=0, usecols=curso_column)"
   ],
   "outputs": [],
   "metadata": {}
  },
  {
   "cell_type": "code",
   "execution_count": 45,
   "source": [
    "cine_column = [\"CO_CINE_ROTULO\", \"NO_CINE_ROTULO\"]\r\n",
    "cine = pd.read_csv(r\"C:\\Users\\arthu\\Desktop\\TpDados\\CINE.csv\", sep ='|', encoding=\"cp860\", index_col=False, header=0, usecols=cine_column)"
   ],
   "outputs": [],
   "metadata": {}
  },
  {
   "cell_type": "code",
   "execution_count": 50,
   "source": [
    "curso = curso.merge(cine, on=\"CO_CINE_ROTULO\", how='left')"
   ],
   "outputs": [],
   "metadata": {}
  },
  {
   "cell_type": "code",
   "execution_count": 51,
   "source": [
    "curso = curso.groupby(\"NO_CINE_ROTULO\").sum()\r\n",
    "\r\n",
    "curso[\"CONCORRENCIA\"] = curso[\"QT_INSCRITO_TOTAL\"] / curso[\"QT_VAGA_TOTAL\"]"
   ],
   "outputs": [],
   "metadata": {}
  },
  {
   "cell_type": "code",
   "execution_count": 52,
   "source": [
    "grouped_curso = curso.sort_values(by=\"CONCORRENCIA\", ascending=False)\r\n",
    "\r\n",
    "grouped_curso.head(5)"
   ],
   "outputs": [
    {
     "output_type": "execute_result",
     "data": {
      "text/plain": [
       "                                              QT_VAGA_TOTAL  \\\n",
       "NO_CINE_ROTULO                                                \n",
       "Medicina                                              47539   \n",
       "Engenharia aeroespacial                                 257   \n",
       "CiΩncias militares                                      629   \n",
       "Letras portuguΩs lφngua brasileira de sinais             89   \n",
       "Estradas                                                217   \n",
       "\n",
       "                                              QT_INSCRITO_TOTAL  CONCORRENCIA  \n",
       "NO_CINE_ROTULO                                                                 \n",
       "Medicina                                                1075264     22.618566  \n",
       "Engenharia aeroespacial                                    4513     17.560311  \n",
       "CiΩncias militares                                         9903     15.744038  \n",
       "Letras portuguΩs lφngua brasileira de sinais                896     10.067416  \n",
       "Estradas                                                   2104      9.695853  "
      ],
      "text/html": [
       "<div>\n",
       "<style scoped>\n",
       "    .dataframe tbody tr th:only-of-type {\n",
       "        vertical-align: middle;\n",
       "    }\n",
       "\n",
       "    .dataframe tbody tr th {\n",
       "        vertical-align: top;\n",
       "    }\n",
       "\n",
       "    .dataframe thead th {\n",
       "        text-align: right;\n",
       "    }\n",
       "</style>\n",
       "<table border=\"1\" class=\"dataframe\">\n",
       "  <thead>\n",
       "    <tr style=\"text-align: right;\">\n",
       "      <th></th>\n",
       "      <th>QT_VAGA_TOTAL</th>\n",
       "      <th>QT_INSCRITO_TOTAL</th>\n",
       "      <th>CONCORRENCIA</th>\n",
       "    </tr>\n",
       "    <tr>\n",
       "      <th>NO_CINE_ROTULO</th>\n",
       "      <th></th>\n",
       "      <th></th>\n",
       "      <th></th>\n",
       "    </tr>\n",
       "  </thead>\n",
       "  <tbody>\n",
       "    <tr>\n",
       "      <th>Medicina</th>\n",
       "      <td>47539</td>\n",
       "      <td>1075264</td>\n",
       "      <td>22.618566</td>\n",
       "    </tr>\n",
       "    <tr>\n",
       "      <th>Engenharia aeroespacial</th>\n",
       "      <td>257</td>\n",
       "      <td>4513</td>\n",
       "      <td>17.560311</td>\n",
       "    </tr>\n",
       "    <tr>\n",
       "      <th>CiΩncias militares</th>\n",
       "      <td>629</td>\n",
       "      <td>9903</td>\n",
       "      <td>15.744038</td>\n",
       "    </tr>\n",
       "    <tr>\n",
       "      <th>Letras portuguΩs lφngua brasileira de sinais</th>\n",
       "      <td>89</td>\n",
       "      <td>896</td>\n",
       "      <td>10.067416</td>\n",
       "    </tr>\n",
       "    <tr>\n",
       "      <th>Estradas</th>\n",
       "      <td>217</td>\n",
       "      <td>2104</td>\n",
       "      <td>9.695853</td>\n",
       "    </tr>\n",
       "  </tbody>\n",
       "</table>\n",
       "</div>"
      ]
     },
     "metadata": {},
     "execution_count": 52
    }
   ],
   "metadata": {}
  }
 ],
 "metadata": {
  "orig_nbformat": 4,
  "language_info": {
   "name": "python",
   "version": "3.9.7",
   "mimetype": "text/x-python",
   "codemirror_mode": {
    "name": "ipython",
    "version": 3
   },
   "pygments_lexer": "ipython3",
   "nbconvert_exporter": "python",
   "file_extension": ".py"
  },
  "kernelspec": {
   "name": "python3",
   "display_name": "Python 3.9.7 64-bit (windows store)"
  },
  "interpreter": {
   "hash": "43972f2191752b34f8cc30ab4b512c8b6f9f084947ecf0a8cf440b7fc9187358"
  }
 },
 "nbformat": 4,
 "nbformat_minor": 2
}