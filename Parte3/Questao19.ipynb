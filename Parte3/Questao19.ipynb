{
 "cells": [
  {
   "cell_type": "markdown",
   "metadata": {},
   "source": [
    "# Pergunta 19\n",
    "\n",
    "### Qual a relação do número de concluintes de cursos de graduação presencial x à distância, por região?"
   ]
  },
  {
   "cell_type": "code",
   "execution_count": 47,
   "metadata": {},
   "outputs": [],
   "source": [
    "import pandas as pd\n",
    "import seaborn as sns\n",
    "import matplotlib.pyplot as plt"
   ]
  },
  {
   "cell_type": "code",
   "execution_count": 100,
   "metadata": {},
   "outputs": [],
   "source": [
    "curso_column = [\"QT_CONCLUINTE_TOTAL\", \"CO_IES\", \"TP_MODALIDADE_ENSINO\", \"CO_CINE_ROTULO\", \"CO_CURSO\"]\n",
    "curso = pd.read_csv(r\"C:\\Users\\gmora\\OneDrive\\Área de Trabalho\\Faculdade\\CDD\\TP\\TreatedDfs\\Curated\\Curso.csv\", index_col=False, header=0, usecols=curso_column, dtype={\"QT_CONCLUINTE_TOTAL\": float})\n"
   ]
  },
  {
   "cell_type": "code",
   "execution_count": 101,
   "metadata": {},
   "outputs": [],
   "source": [
    "ies_column = [\"CO_IES\", \"CO_REGIAO\"]\n",
    "ies = pd.read_csv(r\"C:\\Users\\gmora\\OneDrive\\Área de Trabalho\\Faculdade\\CDD\\TP\\TreatedDfs\\Curated\\Ies.csv\", index_col=False, header=0, usecols=ies_column)"
   ]
  },
  {
   "cell_type": "code",
   "execution_count": 102,
   "metadata": {},
   "outputs": [],
   "source": [
    "ies[\"CO_REGIAO\"] = ies.CO_REGIAO.replace([1,2,3,4,5], [\"Norte\", \"Nordeste\", \"Sudeste\", \"Sul\", \"Centro-Oeste\"]) #Facilita leitura do gráfico"
   ]
  },
  {
   "cell_type": "code",
   "execution_count": 103,
   "metadata": {},
   "outputs": [],
   "source": [
    "curso = curso.merge(ies, on=\"CO_IES\", how='left') #Possibilita que verifiquemos em qual estado está a IES na qual o curso é oferecido"
   ]
  },
  {
   "cell_type": "code",
   "execution_count": 104,
   "metadata": {},
   "outputs": [],
   "source": [
    "curso_pres = curso[curso[\"TP_MODALIDADE_ENSINO\"] == 1] #Filtra para cursos presenciais\n",
    " \n",
    "curso_dist = curso[curso[\"TP_MODALIDADE_ENSINO\"] == 2] #Filtra para cursos a distância"
   ]
  },
  {
   "cell_type": "markdown",
   "metadata": {},
   "source": [
    "O campo \"QT_CONCLUINTE_TOTAL\" informa quantos alunos concluintes temos por cada curso"
   ]
  },
  {
   "cell_type": "code",
   "execution_count": 140,
   "metadata": {},
   "outputs": [
    {
     "name": "stdout",
     "output_type": "stream",
     "text": [
      "CO_REGIAO\n",
      "Centro-Oeste     82512.0\n",
      "Nordeste        194370.0\n",
      "Norte            64759.0\n",
      "Sudeste         449664.0\n",
      "Sul             142732.0\n",
      "Name: QT_CONCLUINTE_TOTAL, dtype: float64\n"
     ]
    },
    {
     "data": {
      "text/plain": [
       "Text(0.5, 1.0, 'Presencial')"
      ]
     },
     "execution_count": 140,
     "metadata": {},
     "output_type": "execute_result"
    },
    {
     "data": {
      "image/png": "[encoded data removed]",
      "text/plain": [
       "<Figure size 432x288 with 1 Axes>"
      ]
     },
     "metadata": {
      "needs_background": "light"
     },
     "output_type": "display_data"
    }
   ],
   "source": [
    "soma = curso_pres.groupby(\"CO_REGIAO\")[\"QT_CONCLUINTE_TOTAL\"].sum() \n",
    "print(soma)\n",
    "\n",
    "sns.barplot(x=list(soma.keys()), y=list(dict(soma).values()))\n",
    "plt.title(\"Presencial\")"
   ]
  },
  {
   "cell_type": "code",
   "execution_count": 142,
   "metadata": {},
   "outputs": [
    {
     "name": "stdout",
     "output_type": "stream",
     "text": [
      "CO_REGIAO\n",
      "Centro-Oeste     24333.0\n",
      "Nordeste          9373.0\n",
      "Norte              479.0\n",
      "Sudeste         123147.0\n",
      "Sul             158707.0\n",
      "Name: QT_CONCLUINTE_TOTAL, dtype: float64\n"
     ]
    },
    {
     "data": {
      "text/plain": [
       "Text(0.5, 1.0, 'À distância')"
      ]
     },
     "execution_count": 142,
     "metadata": {},
     "output_type": "execute_result"
    },
    {
     "data": {
      "image/png": "[encoded data removed]",
      "text/plain": [
       "<Figure size 432x288 with 1 Axes>"
      ]
     },
     "metadata": {
      "needs_background": "light"
     },
     "output_type": "display_data"
    }
   ],
   "source": [
    "soma = curso_dist.groupby(\"CO_REGIAO\")[\"QT_CONCLUINTE_TOTAL\"].sum()\n",
    "print(soma)\n",
    "\n",
    "sns.barplot(x=list(soma.keys()), y=list(dict(soma).values()))\n",
    "plt.title(\"À distância\")"
   ]
  },
  {
   "cell_type": "markdown",
   "metadata": {},
   "source": [
    "## Quantidade de alunos concluintes por curso, por região. A ideia é verificar se existem muitos profissionais de uma determinada área para a população\n",
    "\n",
    "### Fonte para a população de cada região: https://ftp.ibge.gov.br/Estimativas_de_Populacao/Estimativas_2021/estimativa_dou_2021.pdf"
   ]
  },
  {
   "cell_type": "code",
   "execution_count": 108,
   "metadata": {},
   "outputs": [],
   "source": [
    "cine = cine_columns = [\"CO_CINE_ROTULO\", \"NO_CINE_ROTULO\"]\n",
    "cine = pd.read_csv(r\"C:\\Users\\gmora\\OneDrive\\Área de Trabalho\\Faculdade\\CDD\\TP\\TreatedDfs\\Curated\\CINE.CSV\", index_col=False, header=0, usecols=cine_columns)\n",
    "curso = curso.merge(cine, on=\"CO_CINE_ROTULO\", how='left')"
   ]
  },
  {
   "cell_type": "code",
   "execution_count": 110,
   "metadata": {},
   "outputs": [],
   "source": [
    "pop_per_region = {'Norte': 18906962, 'Nordeste': 57667842, 'Sudeste': 89632912, 'Sul': 30402587, 'Centro': 16707336}"
   ]
  },
  {
   "cell_type": "code",
   "execution_count": 136,
   "metadata": {},
   "outputs": [
    {
     "name": "stdout",
     "output_type": "stream",
     "text": [
      "Digite qual curso deseja descobrir em quantos lugares é ofertado\n",
      "Curso digitado: Direito\n",
      "\n",
      "Concluintes por habitante:\n",
      "CO_REGIAO\n",
      "Centro-Oeste    0.000864\n",
      "Nordeste        0.000450\n",
      "Norte           0.000461\n",
      "Sudeste         0.000579\n",
      "Sul             0.000665\n",
      "Name: QT_CONCLUINTE_TOTAL, dtype: float64\n"
     ]
    },
    {
     "data": {
      "image/png": "[encoded data removed]",
      "text/plain": [
       "<Figure size 432x288 with 1 Axes>"
      ]
     },
     "metadata": {
      "needs_background": "light"
     },
     "output_type": "display_data"
    }
   ],
   "source": [
    "print(\"Digite qual curso deseja descobrir em quantos lugares é ofertado\")\n",
    "nome_curso_consultado = str(input())\n",
    "print(\"Curso digitado:\", nome_curso_consultado)\n",
    "\n",
    "if nome_curso_consultado not in curso.NO_CINE_ROTULO.unique():\n",
    "   print(\"\\nCurso não encontrado. Favor verificar a lista de cursos válidos!\")\n",
    "else:\n",
    "   print(\"\\nConcluintes por habitante:\")\n",
    "   concluintes_curso = curso[curso.NO_CINE_ROTULO == nome_curso_consultado]\n",
    "   concluintes_curso_per_region = concluintes_curso.groupby(\"CO_REGIAO\")[\"QT_CONCLUINTE_TOTAL\"].sum()\n",
    "   concluintes_curso_per_region.Norte = concluintes_curso_per_region.Norte/pop_per_region[\"Norte\"]\n",
    "   concluintes_curso_per_region.Nordeste = concluintes_curso_per_region.Nordeste/pop_per_region[\"Nordeste\"]\n",
    "   concluintes_curso_per_region.Sudeste = concluintes_curso_per_region.Sudeste/pop_per_region[\"Sudeste\"]\n",
    "   concluintes_curso_per_region.Sul = concluintes_curso_per_region.Sul/pop_per_region[\"Sul\"]\n",
    "   concluintes_curso_per_region[\"Centro-Oeste\"] = concluintes_curso_per_region[\"Centro-Oeste\"]/pop_per_region[\"Centro\"]\n",
    "   sns.barplot(x=list(concluintes_curso_per_region.keys()), y=list(dict(concluintes_curso_per_region).values()))\n",
    "   print(concluintes_curso_per_region)"
   ]
  }
 ],
 "metadata": {
  "interpreter": {
   "hash": "54ccaebadced9a3a65c790a821397dcedae60905347fd68185f7881edd617ae6"
  },
  "kernelspec": {
   "display_name": "Python 3.8.10 64-bit ('AmbienteCDD': venv)",
   "name": "python3"
  },
  "language_info": {
   "codemirror_mode": {
    "name": "ipython",
    "version": 3
   },
   "file_extension": ".py",
   "mimetype": "text/x-python",
   "name": "python",
   "nbconvert_exporter": "python",
   "pygments_lexer": "ipython3",
   "version": "3.8.10"
  },
  "orig_nbformat": 4
 },
 "nbformat": 4,
 "nbformat_minor": 2
}
