{
 "cells": [
  {
   "cell_type": "code",
   "execution_count": 1,
   "metadata": {},
   "outputs": [],
   "source": [
    "import pandas as pd\n",
    "import numpy as np\n",
    "import matplotlib.pyplot as plt\n",
    "import seaborn as sns"
   ]
  },
  {
   "cell_type": "markdown",
   "metadata": {},
   "source": [
    "# Questão 1\n",
    "\n",
    "### Iremos fazer a análise apenas dos alunos com situação de matricula cursando ou trancada"
   ]
  },
  {
   "cell_type": "code",
   "execution_count": 27,
   "metadata": {},
   "outputs": [
    {
     "name": "stderr",
     "output_type": "stream",
     "text": [
      "C:\\Users\\gmora\\AppData\\Local\\Packages\\PythonSoftwareFoundation.Python.3.8_qbz5n2kfra8p0\\LocalCache\\local-packages\\Python38\\site-packages\\IPython\\core\\interactiveshell.py:3437: DtypeWarning: Columns (7) have mixed types.Specify dtype option on import or set low_memory=False.\n",
      "  exec(code_obj, self.user_global_ns, self.user_ns)\n"
     ]
    }
   ],
   "source": [
    "alumn_column = [\"CO_CINE_ROTULO\", \"TP_SEXO\", \"TP_SITUACAO\" ]\n",
    "alunos = pd.read_csv(r\"C:\\Users\\gmora\\OneDrive\\Área de Trabalho\\Faculdade\\CDD\\TP\\TreatedDfs\\Curated\\Aluno.csv\", index_col=False, header=0, usecols=alumn_column )"
   ]
  },
  {
   "cell_type": "code",
   "execution_count": 33,
   "metadata": {},
   "outputs": [],
   "source": [
    "valid_situ = [2,3]\n",
    "alunos = alunos[alunos['TP_SITUACAO'].isin(valid_situ)] "
   ]
  },
  {
   "cell_type": "code",
   "execution_count": 90,
   "metadata": {},
   "outputs": [],
   "source": [
    "cine = pd.read_csv(r\"C:\\Users\\gmora\\OneDrive\\Área de Trabalho\\Faculdade\\CDD\\TP\\TreatedDfs\\Curated\\CINE.CSV\", index_col=False, header=0, usecols=[\"NO_CINE_AREA_GERAL\", \"CO_CINE_ROTULO\"])"
   ]
  },
  {
   "cell_type": "code",
   "execution_count": 91,
   "metadata": {},
   "outputs": [],
   "source": [
    "#as tabelas tem tipos diferentes para essa variavel que é usada como chave pro merge, precisa deixar igual\n",
    "cine[\"CO_CINE_ROTULO\"] = cine.CO_CINE_ROTULO.astype(str)\n",
    "alunos[\"CO_CINE_ROTULO\"] = alunos.CO_CINE_ROTULO.astype(str) \n",
    "\n",
    "result = alunos.merge(cine, on=\"CO_CINE_ROTULO\", how='left') #adiciona a coluna de area para cada estudante\n",
    "\n",
    "result[\"TP_SEXO\"] = result[\"TP_SEXO\"].replace([1,2],[\"Masc\", \"Fem\"]) #só pra ficar mais bonita a legenda do gráfico"
   ]
  },
  {
   "cell_type": "code",
   "execution_count": null,
   "metadata": {},
   "outputs": [],
   "source": [
    "g = sns.FacetGrid(result, col=\"NO_CINE_AREA_GERAL\", col_wrap=1) #esse FacetGrid que faz gerar vários gráficos separados pra cada área\n",
    "g.map(sns.histplot, \"TP_SEXO\") "
   ]
  }
 ],
 "metadata": {
  "interpreter": {
   "hash": "54ccaebadced9a3a65c790a821397dcedae60905347fd68185f7881edd617ae6"
  },
  "kernelspec": {
   "display_name": "Python 3.8.10 64-bit ('AmbienteCDD': venv)",
   "name": "python3"
  },
  "language_info": {
   "codemirror_mode": {
    "name": "ipython",
    "version": 3
   },
   "file_extension": ".py",
   "mimetype": "text/x-python",
   "name": "python",
   "nbconvert_exporter": "python",
   "pygments_lexer": "ipython3",
   "version": "3.8.10"
  },
  "orig_nbformat": 4
 },
 "nbformat": 4,
 "nbformat_minor": 2
}
