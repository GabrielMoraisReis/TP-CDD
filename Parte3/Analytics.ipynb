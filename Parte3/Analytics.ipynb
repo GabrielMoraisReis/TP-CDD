{
 "cells": [
  {
   "cell_type": "code",
   "execution_count": 2,
   "metadata": {},
   "outputs": [],
   "source": [
    "import pandas as pd\n",
    "import numpy as np\n",
    "import matplotlib.pyplot as plt\n",
    "import seaborn as sns"
   ]
  },
  {
   "cell_type": "markdown",
   "metadata": {},
   "source": [
    "# Pergunta 1\n",
    "\n",
    "### Iremos fazer a análise apenas dos alunos com situação de matricula cursando ou trancada"
   ]
  },
  {
   "cell_type": "code",
   "execution_count": 27,
   "metadata": {},
   "outputs": [
    {
     "name": "stderr",
     "output_type": "stream",
     "text": [
      "C:\\Users\\gmora\\AppData\\Local\\Packages\\PythonSoftwareFoundation.Python.3.8_qbz5n2kfra8p0\\LocalCache\\local-packages\\Python38\\site-packages\\IPython\\core\\interactiveshell.py:3437: DtypeWarning: Columns (7) have mixed types.Specify dtype option on import or set low_memory=False.\n",
      "  exec(code_obj, self.user_global_ns, self.user_ns)\n"
     ]
    }
   ],
   "source": [
    "alumn_column = [\"CO_CINE_ROTULO\", \"TP_SEXO\", \"TP_SITUACAO\" ]\n",
    "alunos = pd.read_csv(r\"C:\\Users\\gmora\\OneDrive\\Área de Trabalho\\Faculdade\\CDD\\TP\\TreatedDfs\\Curated\\Aluno.csv\", index_col=False, header=0, usecols=alumn_column )"
   ]
  },
  {
   "cell_type": "code",
   "execution_count": 33,
   "metadata": {},
   "outputs": [],
   "source": [
    "valid_situ = [2,3]\n",
    "alunos = alunos[alunos['TP_SITUACAO'].isin(valid_situ)] "
   ]
  },
  {
   "cell_type": "code",
   "execution_count": 90,
   "metadata": {},
   "outputs": [],
   "source": [
    "cine = pd.read_csv(r\"C:\\Users\\gmora\\OneDrive\\Área de Trabalho\\Faculdade\\CDD\\TP\\TreatedDfs\\Curated\\CINE.CSV\", index_col=False, header=0, usecols=[\"NO_CINE_AREA_GERAL\", \"CO_CINE_ROTULO\"])"
   ]
  },
  {
   "cell_type": "code",
   "execution_count": 91,
   "metadata": {},
   "outputs": [],
   "source": [
    "#as tabelas tem tipos diferentes para essa variavel que é usada como chave pro merge, precisa deixar igual\n",
    "cine[\"CO_CINE_ROTULO\"] = cine.CO_CINE_ROTULO.astype(str)\n",
    "alunos[\"CO_CINE_ROTULO\"] = alunos.CO_CINE_ROTULO.astype(str) \n",
    "\n",
    "result = alunos.merge(cine, on=\"CO_CINE_ROTULO\", how='left') #adiciona a coluna de area para cada estudante\n",
    "\n",
    "result[\"TP_SEXO\"] = result[\"TP_SEXO\"].replace([1,2],[\"Masc\", \"Fem\"]) #só pra ficar mais bonita a legenda do gráfico"
   ]
  },
  {
   "cell_type": "code",
   "execution_count": null,
   "metadata": {},
   "outputs": [],
   "source": [
    "g = sns.FacetGrid(result, col=\"NO_CINE_AREA_GERAL\", col_wrap=1) #esse FacetGrid que faz gerar vários gráficos separados pra cada área\n",
    "g.map(sns.histplot, \"TP_SEXO\", stat=\"count\") "
   ]
  },
  {
   "cell_type": "markdown",
   "metadata": {},
   "source": [
    "# Pergunta 2"
   ]
  },
  {
   "cell_type": "code",
   "execution_count": 162,
   "metadata": {},
   "outputs": [],
   "source": [
    "alumn_column = [\"TP_SITUACAO\", \"NU_IDADE\"]\n",
    "alunos = pd.read_csv(r\"C:\\Users\\gmora\\OneDrive\\Área de Trabalho\\Faculdade\\CDD\\TP\\TreatedDfs\\Curated\\Aluno.csv\", index_col=False, header=0, usecols=alumn_column )"
   ]
  },
  {
   "cell_type": "code",
   "execution_count": 163,
   "metadata": {},
   "outputs": [
    {
     "data": {
      "text/html": [
       "<div>\n",
       "<style scoped>\n",
       "    .dataframe tbody tr th:only-of-type {\n",
       "        vertical-align: middle;\n",
       "    }\n",
       "\n",
       "    .dataframe tbody tr th {\n",
       "        vertical-align: top;\n",
       "    }\n",
       "\n",
       "    .dataframe thead th {\n",
       "        text-align: right;\n",
       "    }\n",
       "</style>\n",
       "<table border=\"1\" class=\"dataframe\">\n",
       "  <thead>\n",
       "    <tr style=\"text-align: right;\">\n",
       "      <th></th>\n",
       "      <th>NU_IDADE</th>\n",
       "      <th>TP_SITUACAO</th>\n",
       "    </tr>\n",
       "  </thead>\n",
       "  <tbody>\n",
       "    <tr>\n",
       "      <th>1</th>\n",
       "      <td>30</td>\n",
       "      <td>2</td>\n",
       "    </tr>\n",
       "    <tr>\n",
       "      <th>2</th>\n",
       "      <td>37</td>\n",
       "      <td>2</td>\n",
       "    </tr>\n",
       "    <tr>\n",
       "      <th>3</th>\n",
       "      <td>32</td>\n",
       "      <td>2</td>\n",
       "    </tr>\n",
       "    <tr>\n",
       "      <th>4</th>\n",
       "      <td>41</td>\n",
       "      <td>2</td>\n",
       "    </tr>\n",
       "    <tr>\n",
       "      <th>6</th>\n",
       "      <td>27</td>\n",
       "      <td>2</td>\n",
       "    </tr>\n",
       "  </tbody>\n",
       "</table>\n",
       "</div>"
      ],
      "text/plain": [
       "   NU_IDADE  TP_SITUACAO\n",
       "1        30            2\n",
       "2        37            2\n",
       "3        32            2\n",
       "4        41            2\n",
       "6        27            2"
      ]
     },
     "execution_count": 163,
     "metadata": {},
     "output_type": "execute_result"
    }
   ],
   "source": [
    "alunos = alunos[alunos['TP_SITUACAO'] == 2]"
   ]
  },
  {
   "cell_type": "markdown",
   "metadata": {},
   "source": [
    "### Pessoas até 70 anos"
   ]
  },
  {
   "cell_type": "code",
   "execution_count": 190,
   "metadata": {},
   "outputs": [
    {
     "data": {
      "text/plain": [
       "<AxesSubplot:xlabel='Idade', ylabel='Número de alunos'>"
      ]
     },
     "execution_count": 190,
     "metadata": {},
     "output_type": "execute_result"
    },
    {
     "data": {
      "image/png": "[encoded data removed]",
      "text/plain": [
       "<Figure size 432x288 with 1 Axes>"
      ]
     },
     "metadata": {
      "needs_background": "light"
     },
     "output_type": "display_data"
    }
   ],
   "source": [
    "alunos_novos = alunos[alunos[\"NU_IDADE\"] <= 70]\n",
    "plt.xticks([0,10,20,30,40,50,60,65])\n",
    "plt.xlabel(\"Idade\")\n",
    "plt.ylabel(\"Número de alunos\")\n",
    "plt.xlim(15,65)\n",
    "sns.histplot(data=alunos, x=\"NU_IDADE\", bins=20)"
   ]
  },
  {
   "cell_type": "markdown",
   "metadata": {},
   "source": [
    "### Pessoas de mais de 70 anos"
   ]
  },
  {
   "cell_type": "code",
   "execution_count": 189,
   "metadata": {},
   "outputs": [
    {
     "data": {
      "text/plain": [
       "<AxesSubplot:xlabel='Idade', ylabel='Número de alunos'>"
      ]
     },
     "execution_count": 189,
     "metadata": {},
     "output_type": "execute_result"
    },
    {
     "data": {
      "image/png": "[encoded data removed]",
      "text/plain": [
       "<Figure size 432x288 with 1 Axes>"
      ]
     },
     "metadata": {
      "needs_background": "light"
     },
     "output_type": "display_data"
    }
   ],
   "source": [
    "alunos_idosos = alunos[alunos[\"NU_IDADE\"] >= 70]\n",
    "plt.xlabel(\"Idade\")\n",
    "plt.ylabel(\"Número de alunos\")\n",
    "sns.histplot(data=alunos_idosos, x=\"NU_IDADE\")\n"
   ]
  },
  {
   "cell_type": "markdown",
   "metadata": {},
   "source": [
    "# Pergunta 3"
   ]
  },
  {
   "cell_type": "code",
   "execution_count": 241,
   "metadata": {},
   "outputs": [],
   "source": [
    "docente_column = [\"ID_DOCENTE\", \"TP_SITUACAO\", \"NU_IDADE\"]\n",
    "docente = pd.read_csv(r\"C:\\Users\\gmora\\OneDrive\\Área de Trabalho\\Faculdade\\CDD\\TP\\TreatedDfs\\Curated\\Docente.csv\", index_col=False, header=0, usecols=docente_column)"
   ]
  },
  {
   "cell_type": "markdown",
   "metadata": {},
   "source": [
    "### Alguns professores da base estão em exercício em mais de 5 lugares. Consideramos esses professores como erro da base"
   ]
  },
  {
   "cell_type": "code",
   "execution_count": 242,
   "metadata": {},
   "outputs": [],
   "source": [
    "docente = docente[docente.TP_SITUACAO == 1]\n",
    "v = docente.ID_DOCENTE.value_counts()\n",
    "d4 = docente[~(docente.ID_DOCENTE.isin(v.index[v.gt(5)]))] \n",
    "#d4.value_counts()"
   ]
  },
  {
   "cell_type": "code",
   "execution_count": 243,
   "metadata": {},
   "outputs": [
    {
     "data": {
      "text/plain": [
       "79706     101\n",
       "277758     98\n",
       "59421      95\n",
       "72753      94\n",
       "245953     93\n",
       "         ... \n",
       "355543     21\n",
       "285766     21\n",
       "353063     21\n",
       "371431     21\n",
       "326867     20\n",
       "Name: NU_IDADE, Length: 378857, dtype: int64"
      ]
     },
     "execution_count": 243,
     "metadata": {},
     "output_type": "execute_result"
    }
   ],
   "source": [
    "d4.NU_IDADE.sort_values(ascending=False)"
   ]
  },
  {
   "cell_type": "code",
   "execution_count": 244,
   "metadata": {},
   "outputs": [
    {
     "data": {
      "text/plain": [
       "<AxesSubplot:xlabel='Idade', ylabel='Número de alunos'>"
      ]
     },
     "execution_count": 244,
     "metadata": {},
     "output_type": "execute_result"
    },
    {
     "data": {
      "image/png": "[encoded data removed]",
      "text/plain": [
       "<Figure size 432x288 with 1 Axes>"
      ]
     },
     "metadata": {
      "needs_background": "light"
     },
     "output_type": "display_data"
    }
   ],
   "source": [
    "plt.xlabel(\"Idade\")\n",
    "plt.ylabel(\"Número de alunos\")\n",
    "#plt.xlim(10,90)\n",
    "sns.histplot(data=d4, x=\"NU_IDADE\", bins=20)"
   ]
  },
  {
   "cell_type": "markdown",
   "metadata": {},
   "source": [
    "# Pergunta 4"
   ]
  },
  {
   "cell_type": "markdown",
   "metadata": {},
   "source": [
    "### Para acessar a lista de nomes de curso válidos, acesse o arquivo \"NomeCursosCine.xlsx\""
   ]
  },
  {
   "cell_type": "code",
   "execution_count": 50,
   "metadata": {},
   "outputs": [],
   "source": [
    "curso_columns = [\"CO_LOCAL_OFERTA\", \"CO_CINE_ROTULO\"]\n",
    "curso = pd.read_csv(r\"C:\\Users\\gmora\\OneDrive\\Área de Trabalho\\Faculdade\\CDD\\TP\\TreatedDfs\\Curated\\Curso.csv\", index_col=False, header=0, usecols=curso_columns)"
   ]
  },
  {
   "cell_type": "code",
   "execution_count": 51,
   "metadata": {},
   "outputs": [],
   "source": [
    "cine_columns = [\"CO_CINE_ROTULO\", \"NO_CINE_ROTULO\"]\n",
    "cine = pd.read_csv(r\"C:\\Users\\gmora\\OneDrive\\Área de Trabalho\\Faculdade\\CDD\\TP\\TreatedDfs\\Curated\\CINE.CSV\", index_col=False, header=0, usecols=cine_columns)"
   ]
  },
  {
   "cell_type": "code",
   "execution_count": 52,
   "metadata": {},
   "outputs": [],
   "source": [
    "curso = curso.merge(cine, on=\"CO_CINE_ROTULO\", how='left')"
   ]
  },
  {
   "cell_type": "code",
   "execution_count": 53,
   "metadata": {},
   "outputs": [
    {
     "name": "stdout",
     "output_type": "stream",
     "text": [
      "Digite qual curso deseja descobrir em quantos lugares é ofertado\n",
      "Curso digitado: Direito\n",
      "\n",
      "Esse curso é ofertado em 1569 locais\n"
     ]
    }
   ],
   "source": [
    "print(\"Digite qual curso deseja descobrir em quantos lugares é ofertado\")\n",
    "nome_curso_consultado = str(input())\n",
    "print(\"Curso digitado:\", nome_curso_consultado)\n",
    "qtd = np.size(curso[curso.NO_CINE_ROTULO == nome_curso_consultado][\"CO_LOCAL_OFERTA\"])\n",
    "if qtd <= 0:\n",
    "    print(\"\\nCurso não encontrado. Favor verificar a lista de cursos válidos!\")\n",
    "else:\n",
    "    print(\"\\nEsse curso é ofertado em {} locais\".format(qtd))"
   ]
  },
  {
   "cell_type": "markdown",
   "metadata": {},
   "source": [
    "# Pergunta 5\n",
    "\n",
    "### Desistência: corresponde aos alunos com situação de vínculo igual a “desvinculado do curso” ou “transferido para outro curso da mesma IES”\n",
    "\n",
    "### Como estamos tratando apenas o ano de 2019 dos microdados da educação superior não é possível realizar o cálculo da taxa de desistência acumulada, por isso optamos pela de desistência anual\n",
    "\n",
    "### Taxa de Desistência Anual (INEP - DEED): percentual do número de estudantes que saíram (desvinculado ou transferido) do curso j no ano t em relação ao número de estudantes ingressantes no curso j do ano T, subtraindo-se o número de estudantes falecidos do curso j no ano t\n"
   ]
  },
  {
   "cell_type": "code",
   "execution_count": 8,
   "metadata": {},
   "outputs": [
    {
     "name": "stderr",
     "output_type": "stream",
     "text": [
      "c:\\Users\\gmora\\OneDrive\\Área de Trabalho\\Faculdade\\CDD\\AmbienteCDD\\lib\\site-packages\\IPython\\core\\interactiveshell.py:3441: DtypeWarning: Columns (7) have mixed types.Specify dtype option on import or set low_memory=False.\n",
      "  exec(code_obj, self.user_global_ns, self.user_ns)\n"
     ]
    }
   ],
   "source": [
    "alumn_column = [\"TP_SITUACAO\", \"NU_IDADE\", \"ID_ALUNO\", \"IN_INGRESSO_TOTAL\", \"CO_CINE_ROTULO\"]\n",
    "alunos = pd.read_csv(r\"C:\\Users\\gmora\\OneDrive\\Área de Trabalho\\Faculdade\\CDD\\TP\\TreatedDfs\\Curated\\Aluno.csv\", index_col=False, header=0, usecols=alumn_column )"
   ]
  },
  {
   "cell_type": "code",
   "execution_count": 20,
   "metadata": {},
   "outputs": [],
   "source": [
    "tada_df = pd.DataFrame(columns=[\"Curso\", \"Tada\"])\n",
    "\n",
    "for i in alunos.CO_CINE_ROTULO.unique():\n",
    "    alunos_curso = alunos[alunos.CO_CINE_ROTULO == i]\n",
    "    alunos_desistentes = alunos_curso[alunos_curso.TP_SITUACAO.isin([4,5])]\n",
    "    alunos_ingressos = alunos_curso[alunos_curso.IN_INGRESSO_TOTAL == 1]\n",
    "    alunos_rip = alunos_curso[alunos_curso.TP_SITUACAO == 7]\n",
    "    fator = np.size(alunos_desistentes)\n",
    "    quociente = np.size(alunos_ingressos)-np.size(alunos_rip)\n",
    "    if quociente == 0:\n",
    "        salva_ai = {'Curso': i, 'Tada': 100}\n",
    "        tada_df.append(salva_ai, ignore_index=True)\n",
    "    else:\n",
    "        salva_ai = {'Curso': i, 'Tada': (fator/quociente*100)}\n",
    "        tada_df.append(salva_ai, ignore_index=True)\n"
   ]
  },
  {
   "cell_type": "code",
   "execution_count": 21,
   "metadata": {},
   "outputs": [
    {
     "data": {
      "text/html": [
       "<div>\n",
       "<style scoped>\n",
       "    .dataframe tbody tr th:only-of-type {\n",
       "        vertical-align: middle;\n",
       "    }\n",
       "\n",
       "    .dataframe tbody tr th {\n",
       "        vertical-align: top;\n",
       "    }\n",
       "\n",
       "    .dataframe thead th {\n",
       "        text-align: right;\n",
       "    }\n",
       "</style>\n",
       "<table border=\"1\" class=\"dataframe\">\n",
       "  <thead>\n",
       "    <tr style=\"text-align: right;\">\n",
       "      <th></th>\n",
       "      <th>Curso</th>\n",
       "      <th>Tada</th>\n",
       "    </tr>\n",
       "  </thead>\n",
       "  <tbody>\n",
       "  </tbody>\n",
       "</table>\n",
       "</div>"
      ],
      "text/plain": [
       "Empty DataFrame\n",
       "Columns: [Curso, Tada]\n",
       "Index: []"
      ]
     },
     "execution_count": 21,
     "metadata": {},
     "output_type": "execute_result"
    }
   ],
   "source": []
  }
 ],
 "metadata": {
  "interpreter": {
   "hash": "54ccaebadced9a3a65c790a821397dcedae60905347fd68185f7881edd617ae6"
  },
  "kernelspec": {
   "display_name": "Python 3.8.10 64-bit ('AmbienteCDD': venv)",
   "name": "python3"
  },
  "language_info": {
   "codemirror_mode": {
    "name": "ipython",
    "version": 3
   },
   "file_extension": ".py",
   "mimetype": "text/x-python",
   "name": "python",
   "nbconvert_exporter": "python",
   "pygments_lexer": "ipython3",
   "version": "3.8.10"
  },
  "orig_nbformat": 4
 },
 "nbformat": 4,
 "nbformat_minor": 2
}
