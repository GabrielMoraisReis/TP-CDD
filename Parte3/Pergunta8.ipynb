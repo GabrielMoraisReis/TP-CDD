{
  "nbformat": 4,
  "nbformat_minor": 0,
  "metadata": {
    "colab": {
      "name": "Pergunta8.ipynb",
      "provenance": []
    },
    "kernelspec": {
      "name": "python3",
      "display_name": "Python 3"
    },
    "language_info": {
      "name": "python"
    }
  },
  "cells": [
    {
      "cell_type": "code",
      "metadata": {
        "id": "LMZ01tTYKf96"
      },
      "source": [
        "\n",
        "import pandas as pd\n",
        "import numpy as np"
      ],
      "execution_count": 6,
      "outputs": []
    },
    {
      "cell_type": "code",
      "metadata": {
        "id": "yz044OR_PLqP"
      },
      "source": [
        "alumn_column = [\"ID_ALUNO\", \"TP_SITUACAO\", \"TP_MODALIDADE_ENSINO\"]\n",
        "Talunos = pd.read_csv(r\"/content/drive/MyDrive/Curated/Aluno.csv\", index_col=False, header=0, usecols=alumn_column)\n"
      ],
      "execution_count": 60,
      "outputs": []
    },
    {
      "cell_type": "code",
      "metadata": {
        "id": "AQtbtFLxRkDu"
      },
      "source": [
        "valid_situation = [2,3]\n",
        "alunos = Talunos[Talunos['TP_SITUACAO'].isin(valid_situation)]"
      ],
      "execution_count": 59,
      "outputs": []
    },
    {
      "cell_type": "markdown",
      "metadata": {
        "id": "KwRmOOv2kPd9"
      },
      "source": [
        "\n",
        "# **Pergunta 8**\n",
        "\n",
        "**Para responder essa pergunta, realizamos uma contagem dos alunos que repetiam, com a ressalva de que eles deveriam estar ou cursando ou com a matrícula trancada.**"
      ]
    },
    {
      "cell_type": "code",
      "metadata": {
        "colab": {
          "base_uri": "https://localhost:8080/"
        },
        "id": "5gK4iusKaiJe",
        "outputId": "22ce2413-4e3d-4843-ba70-6135f460e4c2"
      },
      "source": [
        "alunos['ID_ALUNO'].value_counts().head(10)"
      ],
      "execution_count": 62,
      "outputs": [
        {
          "output_type": "execute_result",
          "data": {
            "text/plain": [
              "1B4E3661691EF57DC103A876D7AFE0E6    13\n",
              "1E9323CB6AD381FCB7B376684848D486    13\n",
              "0CE5BBE212117B15F493A59DE6E0BE29    12\n",
              "4C916F373F3A26E55F76DEBF99D5ECF7    12\n",
              "ED06F8483F3C984E68001C24974C64F7    10\n",
              "9D5B68E79A65729829D81A994FDD4CA2    10\n",
              "38A4A247395BF1C79DCB0FAB5CF22234    10\n",
              "F1DFEDD900C413053B1E2A8512CCC695     9\n",
              "DB564BFCF9E8A24C1836C62B251880C8     9\n",
              "02F5E439A146D2B122225AC0EE862A42     8\n",
              "Name: ID_ALUNO, dtype: int64"
            ]
          },
          "metadata": {},
          "execution_count": 62
        }
      ]
    },
    {
      "cell_type": "markdown",
      "metadata": {
        "id": "CtQQVp0RlyYQ"
      },
      "source": [
        "**Podemos ver que temos alguns alunos matriculados em até 13 locias/cursos diferentes, então investigamos e vimos que esses alunos estão com 13 matrículas em cursos a distância.**"
      ]
    },
    {
      "cell_type": "code",
      "metadata": {
        "colab": {
          "base_uri": "https://localhost:8080/",
          "height": 452
        },
        "id": "Qeoev-mqoHo8",
        "outputId": "f82d6806-cc38-40f9-dddb-756f9451c9fa"
      },
      "source": [
        "alunos[alunos['ID_ALUNO'] == \"1E9323CB6AD381FCB7B376684848D486\"]"
      ],
      "execution_count": 75,
      "outputs": [
        {
          "output_type": "execute_result",
          "data": {
            "text/html": [
              "<div>\n",
              "<style scoped>\n",
              "    .dataframe tbody tr th:only-of-type {\n",
              "        vertical-align: middle;\n",
              "    }\n",
              "\n",
              "    .dataframe tbody tr th {\n",
              "        vertical-align: top;\n",
              "    }\n",
              "\n",
              "    .dataframe thead th {\n",
              "        text-align: right;\n",
              "    }\n",
              "</style>\n",
              "<table border=\"1\" class=\"dataframe\">\n",
              "  <thead>\n",
              "    <tr style=\"text-align: right;\">\n",
              "      <th></th>\n",
              "      <th>TP_MODALIDADE_ENSINO</th>\n",
              "      <th>ID_ALUNO</th>\n",
              "      <th>TP_SITUACAO</th>\n",
              "    </tr>\n",
              "  </thead>\n",
              "  <tbody>\n",
              "    <tr>\n",
              "      <th>2382306</th>\n",
              "      <td>2</td>\n",
              "      <td>1E9323CB6AD381FCB7B376684848D486</td>\n",
              "      <td>2</td>\n",
              "    </tr>\n",
              "    <tr>\n",
              "      <th>6233034</th>\n",
              "      <td>2</td>\n",
              "      <td>1E9323CB6AD381FCB7B376684848D486</td>\n",
              "      <td>2</td>\n",
              "    </tr>\n",
              "    <tr>\n",
              "      <th>6236555</th>\n",
              "      <td>2</td>\n",
              "      <td>1E9323CB6AD381FCB7B376684848D486</td>\n",
              "      <td>2</td>\n",
              "    </tr>\n",
              "    <tr>\n",
              "      <th>6281873</th>\n",
              "      <td>2</td>\n",
              "      <td>1E9323CB6AD381FCB7B376684848D486</td>\n",
              "      <td>2</td>\n",
              "    </tr>\n",
              "    <tr>\n",
              "      <th>6282623</th>\n",
              "      <td>2</td>\n",
              "      <td>1E9323CB6AD381FCB7B376684848D486</td>\n",
              "      <td>2</td>\n",
              "    </tr>\n",
              "    <tr>\n",
              "      <th>6283457</th>\n",
              "      <td>2</td>\n",
              "      <td>1E9323CB6AD381FCB7B376684848D486</td>\n",
              "      <td>2</td>\n",
              "    </tr>\n",
              "    <tr>\n",
              "      <th>6283804</th>\n",
              "      <td>2</td>\n",
              "      <td>1E9323CB6AD381FCB7B376684848D486</td>\n",
              "      <td>2</td>\n",
              "    </tr>\n",
              "    <tr>\n",
              "      <th>6284005</th>\n",
              "      <td>2</td>\n",
              "      <td>1E9323CB6AD381FCB7B376684848D486</td>\n",
              "      <td>2</td>\n",
              "    </tr>\n",
              "    <tr>\n",
              "      <th>6295249</th>\n",
              "      <td>2</td>\n",
              "      <td>1E9323CB6AD381FCB7B376684848D486</td>\n",
              "      <td>2</td>\n",
              "    </tr>\n",
              "    <tr>\n",
              "      <th>6295691</th>\n",
              "      <td>2</td>\n",
              "      <td>1E9323CB6AD381FCB7B376684848D486</td>\n",
              "      <td>2</td>\n",
              "    </tr>\n",
              "    <tr>\n",
              "      <th>6295929</th>\n",
              "      <td>2</td>\n",
              "      <td>1E9323CB6AD381FCB7B376684848D486</td>\n",
              "      <td>2</td>\n",
              "    </tr>\n",
              "    <tr>\n",
              "      <th>6296662</th>\n",
              "      <td>2</td>\n",
              "      <td>1E9323CB6AD381FCB7B376684848D486</td>\n",
              "      <td>2</td>\n",
              "    </tr>\n",
              "    <tr>\n",
              "      <th>6297077</th>\n",
              "      <td>2</td>\n",
              "      <td>1E9323CB6AD381FCB7B376684848D486</td>\n",
              "      <td>2</td>\n",
              "    </tr>\n",
              "  </tbody>\n",
              "</table>\n",
              "</div>"
            ],
            "text/plain": [
              "         TP_MODALIDADE_ENSINO                          ID_ALUNO  TP_SITUACAO\n",
              "2382306                     2  1E9323CB6AD381FCB7B376684848D486            2\n",
              "6233034                     2  1E9323CB6AD381FCB7B376684848D486            2\n",
              "6236555                     2  1E9323CB6AD381FCB7B376684848D486            2\n",
              "6281873                     2  1E9323CB6AD381FCB7B376684848D486            2\n",
              "6282623                     2  1E9323CB6AD381FCB7B376684848D486            2\n",
              "6283457                     2  1E9323CB6AD381FCB7B376684848D486            2\n",
              "6283804                     2  1E9323CB6AD381FCB7B376684848D486            2\n",
              "6284005                     2  1E9323CB6AD381FCB7B376684848D486            2\n",
              "6295249                     2  1E9323CB6AD381FCB7B376684848D486            2\n",
              "6295691                     2  1E9323CB6AD381FCB7B376684848D486            2\n",
              "6295929                     2  1E9323CB6AD381FCB7B376684848D486            2\n",
              "6296662                     2  1E9323CB6AD381FCB7B376684848D486            2\n",
              "6297077                     2  1E9323CB6AD381FCB7B376684848D486            2"
            ]
          },
          "metadata": {},
          "execution_count": 75
        }
      ]
    },
    {
      "cell_type": "code",
      "metadata": {
        "colab": {
          "base_uri": "https://localhost:8080/",
          "height": 452
        },
        "id": "uzxByKYCtkbL",
        "outputId": "a2833539-fca2-499d-e708-99ea959f9c6e"
      },
      "source": [
        "alunos[alunos['ID_ALUNO'] == \"1B4E3661691EF57DC103A876D7AFE0E6\"]"
      ],
      "execution_count": 76,
      "outputs": [
        {
          "output_type": "execute_result",
          "data": {
            "text/html": [
              "<div>\n",
              "<style scoped>\n",
              "    .dataframe tbody tr th:only-of-type {\n",
              "        vertical-align: middle;\n",
              "    }\n",
              "\n",
              "    .dataframe tbody tr th {\n",
              "        vertical-align: top;\n",
              "    }\n",
              "\n",
              "    .dataframe thead th {\n",
              "        text-align: right;\n",
              "    }\n",
              "</style>\n",
              "<table border=\"1\" class=\"dataframe\">\n",
              "  <thead>\n",
              "    <tr style=\"text-align: right;\">\n",
              "      <th></th>\n",
              "      <th>TP_MODALIDADE_ENSINO</th>\n",
              "      <th>ID_ALUNO</th>\n",
              "      <th>TP_SITUACAO</th>\n",
              "    </tr>\n",
              "  </thead>\n",
              "  <tbody>\n",
              "    <tr>\n",
              "      <th>502796</th>\n",
              "      <td>2</td>\n",
              "      <td>1B4E3661691EF57DC103A876D7AFE0E6</td>\n",
              "      <td>2</td>\n",
              "    </tr>\n",
              "    <tr>\n",
              "      <th>530174</th>\n",
              "      <td>2</td>\n",
              "      <td>1B4E3661691EF57DC103A876D7AFE0E6</td>\n",
              "      <td>2</td>\n",
              "    </tr>\n",
              "    <tr>\n",
              "      <th>2739475</th>\n",
              "      <td>2</td>\n",
              "      <td>1B4E3661691EF57DC103A876D7AFE0E6</td>\n",
              "      <td>2</td>\n",
              "    </tr>\n",
              "    <tr>\n",
              "      <th>2745261</th>\n",
              "      <td>2</td>\n",
              "      <td>1B4E3661691EF57DC103A876D7AFE0E6</td>\n",
              "      <td>2</td>\n",
              "    </tr>\n",
              "    <tr>\n",
              "      <th>2747674</th>\n",
              "      <td>2</td>\n",
              "      <td>1B4E3661691EF57DC103A876D7AFE0E6</td>\n",
              "      <td>2</td>\n",
              "    </tr>\n",
              "    <tr>\n",
              "      <th>6253586</th>\n",
              "      <td>2</td>\n",
              "      <td>1B4E3661691EF57DC103A876D7AFE0E6</td>\n",
              "      <td>2</td>\n",
              "    </tr>\n",
              "    <tr>\n",
              "      <th>6263335</th>\n",
              "      <td>2</td>\n",
              "      <td>1B4E3661691EF57DC103A876D7AFE0E6</td>\n",
              "      <td>2</td>\n",
              "    </tr>\n",
              "    <tr>\n",
              "      <th>6287353</th>\n",
              "      <td>2</td>\n",
              "      <td>1B4E3661691EF57DC103A876D7AFE0E6</td>\n",
              "      <td>2</td>\n",
              "    </tr>\n",
              "    <tr>\n",
              "      <th>6289632</th>\n",
              "      <td>2</td>\n",
              "      <td>1B4E3661691EF57DC103A876D7AFE0E6</td>\n",
              "      <td>2</td>\n",
              "    </tr>\n",
              "    <tr>\n",
              "      <th>6291131</th>\n",
              "      <td>2</td>\n",
              "      <td>1B4E3661691EF57DC103A876D7AFE0E6</td>\n",
              "      <td>2</td>\n",
              "    </tr>\n",
              "    <tr>\n",
              "      <th>6292258</th>\n",
              "      <td>2</td>\n",
              "      <td>1B4E3661691EF57DC103A876D7AFE0E6</td>\n",
              "      <td>2</td>\n",
              "    </tr>\n",
              "    <tr>\n",
              "      <th>6294136</th>\n",
              "      <td>2</td>\n",
              "      <td>1B4E3661691EF57DC103A876D7AFE0E6</td>\n",
              "      <td>2</td>\n",
              "    </tr>\n",
              "    <tr>\n",
              "      <th>7463100</th>\n",
              "      <td>2</td>\n",
              "      <td>1B4E3661691EF57DC103A876D7AFE0E6</td>\n",
              "      <td>3</td>\n",
              "    </tr>\n",
              "  </tbody>\n",
              "</table>\n",
              "</div>"
            ],
            "text/plain": [
              "         TP_MODALIDADE_ENSINO                          ID_ALUNO  TP_SITUACAO\n",
              "502796                      2  1B4E3661691EF57DC103A876D7AFE0E6            2\n",
              "530174                      2  1B4E3661691EF57DC103A876D7AFE0E6            2\n",
              "2739475                     2  1B4E3661691EF57DC103A876D7AFE0E6            2\n",
              "2745261                     2  1B4E3661691EF57DC103A876D7AFE0E6            2\n",
              "2747674                     2  1B4E3661691EF57DC103A876D7AFE0E6            2\n",
              "6253586                     2  1B4E3661691EF57DC103A876D7AFE0E6            2\n",
              "6263335                     2  1B4E3661691EF57DC103A876D7AFE0E6            2\n",
              "6287353                     2  1B4E3661691EF57DC103A876D7AFE0E6            2\n",
              "6289632                     2  1B4E3661691EF57DC103A876D7AFE0E6            2\n",
              "6291131                     2  1B4E3661691EF57DC103A876D7AFE0E6            2\n",
              "6292258                     2  1B4E3661691EF57DC103A876D7AFE0E6            2\n",
              "6294136                     2  1B4E3661691EF57DC103A876D7AFE0E6            2\n",
              "7463100                     2  1B4E3661691EF57DC103A876D7AFE0E6            3"
            ]
          },
          "metadata": {},
          "execution_count": 76
        }
      ]
    },
    {
      "cell_type": "markdown",
      "metadata": {
        "id": "jCeyXCxnty4l"
      },
      "source": [
        "**Por fim, iremos olhar quantos alunos aparecem 2 ou mais vezes na base de dados. Esse valor estará indicado como True na função abaixo.**"
      ]
    },
    {
      "cell_type": "code",
      "metadata": {
        "colab": {
          "base_uri": "https://localhost:8080/"
        },
        "id": "cpartHppt5tq",
        "outputId": "3efaf1d7-b8ba-4f08-9966-88425edc754c"
      },
      "source": [
        "alunos['ID_ALUNO'].duplicated().value_counts()"
      ],
      "execution_count": 77,
      "outputs": [
        {
          "output_type": "execute_result",
          "data": {
            "text/plain": [
              "False    5838713\n",
              "True      316909\n",
              "Name: ID_ALUNO, dtype: int64"
            ]
          },
          "metadata": {},
          "execution_count": 77
        }
      ]
    }
  ]
}