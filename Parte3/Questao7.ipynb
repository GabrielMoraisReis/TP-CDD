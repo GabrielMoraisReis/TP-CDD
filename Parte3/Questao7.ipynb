{
 "cells": [
  {
   "cell_type": "markdown",
   "source": [
    "# Pergunta 7\r\n",
    "\r\n",
    "### Quantos candidatos se candidatam para uma vaga em IES em cada Estado do pais?\r\n"
   ],
   "metadata": {}
  },
  {
   "cell_type": "code",
   "execution_count": 65,
   "source": [
    "import pandas as pd"
   ],
   "outputs": [],
   "metadata": {}
  },
  {
   "cell_type": "code",
   "execution_count": 51,
   "source": [
    "curso_column = [\"CO_UF\", \"QT_INSCRITO_TOTAL\"]\r\n",
    "curso = pd.read_csv(r\"C:\\Users\\arthu\\Desktop\\TpDados\\Curso.csv\", index_col=False, header=0, usecols=curso_column)"
   ],
   "outputs": [],
   "metadata": {}
  },
  {
   "cell_type": "code",
   "execution_count": 31,
   "source": [
    "curso_grouped = curso.groupby(\"CO_UF\")[\"QT_INSCRITO_TOTAL\"].sum()\r\n",
    "print(curso_grouped)"
   ],
   "outputs": [
    {
     "output_type": "stream",
     "name": "stdout",
     "text": [
      "CO_UF\n",
      "11.0      73404\n",
      "12.0      67010\n",
      "13.0     254420\n",
      "14.0      36427\n",
      "15.0     428583\n",
      "16.0      93713\n",
      "17.0     113677\n",
      "21.0     391890\n",
      "22.0     209702\n",
      "23.0     544142\n",
      "24.0     171448\n",
      "25.0     346174\n",
      "26.0     407233\n",
      "27.0     190886\n",
      "28.0      96296\n",
      "29.0     773972\n",
      "31.0    1283076\n",
      "32.0     181524\n",
      "33.0     994026\n",
      "35.0    3291284\n",
      "41.0     585524\n",
      "42.0     321358\n",
      "43.0     443756\n",
      "50.0     159856\n",
      "51.0     231079\n",
      "52.0     347583\n",
      "53.0     342032\n",
      "Name: QT_INSCRITO_TOTAL, dtype: int64\n"
     ]
    }
   ],
   "metadata": {}
  },
  {
   "cell_type": "code",
   "execution_count": null,
   "source": [],
   "outputs": [],
   "metadata": {}
  }
 ],
 "metadata": {
  "orig_nbformat": 4,
  "language_info": {
   "name": "python",
   "version": "3.9.7",
   "mimetype": "text/x-python",
   "codemirror_mode": {
    "name": "ipython",
    "version": 3
   },
   "pygments_lexer": "ipython3",
   "nbconvert_exporter": "python",
   "file_extension": ".py"
  },
  "kernelspec": {
   "name": "python3",
   "display_name": "Python 3.9.7 64-bit (windows store)"
  },
  "interpreter": {
   "hash": "43972f2191752b34f8cc30ab4b512c8b6f9f084947ecf0a8cf440b7fc9187358"
  }
 },
 "nbformat": 4,
 "nbformat_minor": 2
}