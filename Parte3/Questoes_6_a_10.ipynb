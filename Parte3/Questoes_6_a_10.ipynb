{
 "cells": [
  {
   "cell_type": "markdown",
   "metadata": {},
   "source": [
    "# Pergunta 6\n",
    "\n",
    "### Qual o grau de formação mais comum dos docentes? Comparação entre IES particulares e públicas.\n"
   ]
  },
  {
   "cell_type": "code",
   "execution_count": 1,
   "metadata": {},
   "outputs": [],
   "source": [
    "import pandas as pd\n",
    "import matplotlib.pyplot as plt"
   ]
  },
  {
   "cell_type": "code",
   "execution_count": 2,
   "metadata": {},
   "outputs": [],
   "source": [
    "docente_column = [\"TP_ESCOLARIDADE\", \"TP_CATEGORIA_ADMINISTRATIVA\"]\n",
    "docente = pd.read_csv(r\"C:\\Users\\gmora\\OneDrive\\Área de Trabalho\\Faculdade\\CDD\\TP\\TreatedDfs\\Curated\\Docente.csv\", index_col=False, header=0, usecols=docente_column)"
   ]
  },
  {
   "cell_type": "code",
   "execution_count": 3,
   "metadata": {},
   "outputs": [],
   "source": [
    "docente[\"TP_ESCOLARIDADE\"] = docente.TP_ESCOLARIDADE.replace([1, 2, 3, 4, 5], [\"Sem graduação\", \"Graduação\", \"Especialização\", \"Mestrado\", \"Doutorado\"])"
   ]
  },
  {
   "cell_type": "code",
   "execution_count": 4,
   "metadata": {},
   "outputs": [],
   "source": [
    "docenteParticular = docente[(docente.TP_CATEGORIA_ADMINISTRATIVA == 4) | (docente.TP_CATEGORIA_ADMINISTRATIVA == 5)\n",
    "                             | (docente.TP_CATEGORIA_ADMINISTRATIVA == 6)  | (docente.TP_CATEGORIA_ADMINISTRATIVA == 8)\n",
    "                              | (docente.TP_CATEGORIA_ADMINISTRATIVA == 9)] # TP_CATEGORIA_ADMINISTRATIVA 4, 5, 6, 8 e 9 são de IES particulares"
   ]
  },
  {
   "cell_type": "code",
   "execution_count": 5,
   "metadata": {},
   "outputs": [
    {
     "data": {
      "text/plain": [
       "{'Mestrado': 102669,\n",
       " 'Doutorado': 61365,\n",
       " 'Especialização': 48924,\n",
       " 'Graduação': 245,\n",
       " 'Sem graduação': 8}"
      ]
     },
     "execution_count": 5,
     "metadata": {},
     "output_type": "execute_result"
    }
   ],
   "source": [
    "docenteParticular['TP_ESCOLARIDADE'].value_counts().to_dict() # printa a quantidade de docentes de IES particulares separado pelo TP_ESCOLARIDADE"
   ]
  },
  {
   "cell_type": "markdown",
   "metadata": {},
   "source": [
    "O grau de formação mais comum dos docentes em IES particulares é Mestrado (TP_ESCOLARIDADE == 4), com 102.669 docentes."
   ]
  },
  {
   "cell_type": "code",
   "execution_count": 6,
   "metadata": {},
   "outputs": [],
   "source": [
    "docentePublico = docente[(docente.TP_CATEGORIA_ADMINISTRATIVA == 1) | (docente.TP_CATEGORIA_ADMINISTRATIVA == 2)\n",
    "                            | (docente.TP_CATEGORIA_ADMINISTRATIVA == 3)] # TP_CATEGORIA_ADMINISTRATIVA 1, 2 e 3 são de IES públicas"
   ]
  },
  {
   "cell_type": "code",
   "execution_count": 7,
   "metadata": {},
   "outputs": [
    {
     "data": {
      "text/plain": [
       "{'Doutorado': 120539,\n",
       " 'Mestrado': 47262,\n",
       " 'Especialização': 13101,\n",
       " 'Graduação': 3417,\n",
       " 'Sem graduação': 5}"
      ]
     },
     "execution_count": 7,
     "metadata": {},
     "output_type": "execute_result"
    }
   ],
   "source": [
    "docentePublico['TP_ESCOLARIDADE'].value_counts().to_dict() # printa a quantidade de docentes de IES públicas separado pelo TP_ESCOLARIDADE"
   ]
  },
  {
   "cell_type": "markdown",
   "metadata": {},
   "source": [
    "O grau de formação mais comum dos docentes em IES públicas é Doutorado (TP_ESCOLARIDADE == 5), com 120.539 docentes."
   ]
  },
  {
   "cell_type": "code",
   "execution_count": 8,
   "metadata": {},
   "outputs": [
    {
     "data": {
      "text/plain": [
       "<matplotlib.legend.Legend at 0x20f6eb91730>"
      ]
     },
     "execution_count": 8,
     "metadata": {},
     "output_type": "execute_result"
    },
    {
     "data": {
      "image/png": "[encoded data removed]",
      "text/plain": [
       "<Figure size 432x288 with 1 Axes>"
      ]
     },
     "metadata": {
      "needs_background": "light"
     },
     "output_type": "display_data"
    }
   ],
   "source": [
    "plt.hist(docentePublico['TP_ESCOLARIDADE'], bins=20, alpha=0.6, label=\"Público\", color=\"black\")\n",
    "plt.hist(docenteParticular['TP_ESCOLARIDADE'], bins=20, alpha=0.6, label=\"Particular\", color=\"red\")\n",
    "\n",
    "plt.xlabel(\"Grau de formação\", size=14)\n",
    "plt.ylabel(\"Número de docentes\", size=14)\n",
    "plt.title(\"Públicas x Particulares\")\n",
    "plt.legend(loc='upper right')"
   ]
  },
  {
   "cell_type": "markdown",
   "metadata": {},
   "source": [
    "# Pergunta 7\n",
    "\n",
    "### Quantos candidatos se candidatam para uma vaga em IES em cada Estado do pais?\n"
   ]
  },
  {
   "cell_type": "code",
   "execution_count": 9,
   "metadata": {},
   "outputs": [],
   "source": [
    "curso_column = [\"CO_UF\", \"QT_INSCRITO_TOTAL\"]\n",
    "curso = pd.read_csv(r\"C:\\Users\\gmora\\OneDrive\\Área de Trabalho\\Faculdade\\CDD\\TP\\TreatedDfs\\Curated\\Curso.csv\", index_col=False, header=0, usecols=curso_column)"
   ]
  },
  {
   "cell_type": "code",
   "execution_count": 10,
   "metadata": {},
   "outputs": [],
   "source": [
    "# Lógica para dar replace no código UF pelo seu respectivo nome para facilitar o entendimento\n",
    "curso[\"CO_UF\"] = curso.CO_UF.replace([11,12,13,14,15,16,17,21,22,23,24,25,26,27,28,29,31,32,33,35,41,42,43,50,51,52,53],\n",
    "                                     [\"Rondônia\", \"Acre\", \"Amazonas\", \"Roraima\", \"Pará\", \"Amapá\", \"Tocantins\", \"Maranhão\", \n",
    "                                     \"Piauí\", \"Ceará\", \"Rio Grande do Norte\", \"Paraíba\", \"Pernambuco\", \"Alagoas\", \"Sergipe\", \n",
    "                                     \"Bahia\", \"Minas Gerais\", \"Espírito Santo\", \"Rio de Janeiro\", \"São Paulo\", \"Paraná\", \"Santa Catarina\", \n",
    "                                     \"Rio Grande do Sul\", \"Mato Grosso do Sul\", \"Mato Grosso\", \"Goiás\", \"Distrito Federal\"])"
   ]
  },
  {
   "cell_type": "code",
   "execution_count": 11,
   "metadata": {},
   "outputs": [
    {
     "name": "stdout",
     "output_type": "stream",
     "text": [
      "CO_UF\n",
      "Acre                     67010\n",
      "Alagoas                 190886\n",
      "Amapá                    93713\n",
      "Amazonas                254420\n",
      "Bahia                   773972\n",
      "Ceará                   544142\n",
      "Distrito Federal        342032\n",
      "Espírito Santo          181524\n",
      "Goiás                   347583\n",
      "Maranhão                391890\n",
      "Mato Grosso             231079\n",
      "Mato Grosso do Sul      159856\n",
      "Minas Gerais           1283076\n",
      "Paraná                  585524\n",
      "Paraíba                 346174\n",
      "Pará                    428583\n",
      "Pernambuco              407233\n",
      "Piauí                   209702\n",
      "Rio Grande do Norte     171448\n",
      "Rio Grande do Sul       443756\n",
      "Rio de Janeiro          994026\n",
      "Rondônia                 73404\n",
      "Roraima                  36427\n",
      "Santa Catarina          321358\n",
      "Sergipe                  96296\n",
      "São Paulo              3291284\n",
      "Tocantins               113677\n",
      "Name: QT_INSCRITO_TOTAL, dtype: int64\n"
     ]
    }
   ],
   "source": [
    "curso_grouped = curso.groupby(\"CO_UF\")[\"QT_INSCRITO_TOTAL\"].sum() # Soma a quantidade de inscritos totais para cada UF\n",
    "print(curso_grouped)"
   ]
  },
  {
   "cell_type": "code",
   "execution_count": 12,
   "metadata": {},
   "outputs": [
    {
     "data": {
      "image/png": "[encoded data removed]",
      "text/plain": [
       "<Figure size 432x288 with 1 Axes>"
      ]
     },
     "metadata": {
      "needs_background": "light"
     },
     "output_type": "display_data"
    }
   ],
   "source": [
    "curso_grouped = curso.groupby(\"CO_UF\")[\"QT_INSCRITO_TOTAL\"].sum().plot(kind=\"bar\")"
   ]
  },
  {
   "cell_type": "code",
   "execution_count": 13,
   "metadata": {
    "id": "yz044OR_PLqP"
   },
   "outputs": [],
   "source": [
    "alumn_column = [\"ID_ALUNO\", \"TP_SITUACAO\", \"TP_MODALIDADE_ENSINO\"]\n",
    "Talunos = pd.read_csv(r\"C:\\Users\\gmora\\OneDrive\\Área de Trabalho\\Faculdade\\CDD\\TP\\TreatedDfs\\Curated\\Aluno.csv\", index_col=False, header=0, usecols=alumn_column)\n"
   ]
  },
  {
   "cell_type": "code",
   "execution_count": 14,
   "metadata": {
    "id": "AQtbtFLxRkDu"
   },
   "outputs": [],
   "source": [
    "valid_situation = [2,3]\n",
    "alunos = Talunos[Talunos['TP_SITUACAO'].isin(valid_situation)]"
   ]
  },
  {
   "cell_type": "markdown",
   "metadata": {
    "id": "KwRmOOv2kPd9"
   },
   "source": [
    "\n",
    "# **Pergunta 8**\n",
    "\n",
    "**Para responder essa pergunta, realizamos uma contagem dos alunos que repetiam, com a ressalva de que eles deveriam estar ou cursando ou com a matrícula trancada.**"
   ]
  },
  {
   "cell_type": "code",
   "execution_count": 15,
   "metadata": {
    "colab": {
     "base_uri": "https://localhost:8080/"
    },
    "id": "5gK4iusKaiJe",
    "outputId": "22ce2413-4e3d-4843-ba70-6135f460e4c2"
   },
   "outputs": [
    {
     "data": {
      "text/plain": [
       "1E9323CB6AD381FCB7B376684848D486    13\n",
       "1B4E3661691EF57DC103A876D7AFE0E6    13\n",
       "4C916F373F3A26E55F76DEBF99D5ECF7    12\n",
       "0CE5BBE212117B15F493A59DE6E0BE29    12\n",
       "ED06F8483F3C984E68001C24974C64F7    11\n",
       "9D5B68E79A65729829D81A994FDD4CA2    10\n",
       "38A4A247395BF1C79DCB0FAB5CF22234    10\n",
       "DB564BFCF9E8A24C1836C62B251880C8     9\n",
       "3813941103B3D4F5AAD2425E19867A08     9\n",
       "F1DFEDD900C413053B1E2A8512CCC695     9\n",
       "Name: ID_ALUNO, dtype: int64"
      ]
     },
     "execution_count": 15,
     "metadata": {},
     "output_type": "execute_result"
    }
   ],
   "source": [
    "alunos['ID_ALUNO'].value_counts().head(10)"
   ]
  },
  {
   "cell_type": "markdown",
   "metadata": {
    "id": "CtQQVp0RlyYQ"
   },
   "source": [
    "**Podemos ver que temos alguns alunos matriculados em até 13 locias/cursos diferentes, então investigamos e vimos que esses alunos estão com 13 matrículas em cursos a distância.**"
   ]
  },
  {
   "cell_type": "code",
   "execution_count": 16,
   "metadata": {
    "colab": {
     "base_uri": "https://localhost:8080/",
     "height": 452
    },
    "id": "Qeoev-mqoHo8",
    "outputId": "f82d6806-cc38-40f9-dddb-756f9451c9fa"
   },
   "outputs": [
    {
     "data": {
      "text/html": [
       "<div>\n",
       "<style scoped>\n",
       "    .dataframe tbody tr th:only-of-type {\n",
       "        vertical-align: middle;\n",
       "    }\n",
       "\n",
       "    .dataframe tbody tr th {\n",
       "        vertical-align: top;\n",
       "    }\n",
       "\n",
       "    .dataframe thead th {\n",
       "        text-align: right;\n",
       "    }\n",
       "</style>\n",
       "<table border=\"1\" class=\"dataframe\">\n",
       "  <thead>\n",
       "    <tr style=\"text-align: right;\">\n",
       "      <th></th>\n",
       "      <th>TP_MODALIDADE_ENSINO</th>\n",
       "      <th>ID_ALUNO</th>\n",
       "      <th>TP_SITUACAO</th>\n",
       "    </tr>\n",
       "  </thead>\n",
       "  <tbody>\n",
       "    <tr>\n",
       "      <th>3321694</th>\n",
       "      <td>2</td>\n",
       "      <td>1E9323CB6AD381FCB7B376684848D486</td>\n",
       "      <td>2</td>\n",
       "    </tr>\n",
       "    <tr>\n",
       "      <th>7172422</th>\n",
       "      <td>2</td>\n",
       "      <td>1E9323CB6AD381FCB7B376684848D486</td>\n",
       "      <td>2</td>\n",
       "    </tr>\n",
       "    <tr>\n",
       "      <th>7175943</th>\n",
       "      <td>2</td>\n",
       "      <td>1E9323CB6AD381FCB7B376684848D486</td>\n",
       "      <td>2</td>\n",
       "    </tr>\n",
       "    <tr>\n",
       "      <th>7221261</th>\n",
       "      <td>2</td>\n",
       "      <td>1E9323CB6AD381FCB7B376684848D486</td>\n",
       "      <td>2</td>\n",
       "    </tr>\n",
       "    <tr>\n",
       "      <th>7222011</th>\n",
       "      <td>2</td>\n",
       "      <td>1E9323CB6AD381FCB7B376684848D486</td>\n",
       "      <td>2</td>\n",
       "    </tr>\n",
       "    <tr>\n",
       "      <th>7222845</th>\n",
       "      <td>2</td>\n",
       "      <td>1E9323CB6AD381FCB7B376684848D486</td>\n",
       "      <td>2</td>\n",
       "    </tr>\n",
       "    <tr>\n",
       "      <th>7223192</th>\n",
       "      <td>2</td>\n",
       "      <td>1E9323CB6AD381FCB7B376684848D486</td>\n",
       "      <td>2</td>\n",
       "    </tr>\n",
       "    <tr>\n",
       "      <th>7223393</th>\n",
       "      <td>2</td>\n",
       "      <td>1E9323CB6AD381FCB7B376684848D486</td>\n",
       "      <td>2</td>\n",
       "    </tr>\n",
       "    <tr>\n",
       "      <th>7234637</th>\n",
       "      <td>2</td>\n",
       "      <td>1E9323CB6AD381FCB7B376684848D486</td>\n",
       "      <td>2</td>\n",
       "    </tr>\n",
       "    <tr>\n",
       "      <th>7235079</th>\n",
       "      <td>2</td>\n",
       "      <td>1E9323CB6AD381FCB7B376684848D486</td>\n",
       "      <td>2</td>\n",
       "    </tr>\n",
       "    <tr>\n",
       "      <th>7235317</th>\n",
       "      <td>2</td>\n",
       "      <td>1E9323CB6AD381FCB7B376684848D486</td>\n",
       "      <td>2</td>\n",
       "    </tr>\n",
       "    <tr>\n",
       "      <th>7236050</th>\n",
       "      <td>2</td>\n",
       "      <td>1E9323CB6AD381FCB7B376684848D486</td>\n",
       "      <td>2</td>\n",
       "    </tr>\n",
       "    <tr>\n",
       "      <th>7236465</th>\n",
       "      <td>2</td>\n",
       "      <td>1E9323CB6AD381FCB7B376684848D486</td>\n",
       "      <td>2</td>\n",
       "    </tr>\n",
       "  </tbody>\n",
       "</table>\n",
       "</div>"
      ],
      "text/plain": [
       "         TP_MODALIDADE_ENSINO                          ID_ALUNO  TP_SITUACAO\n",
       "3321694                     2  1E9323CB6AD381FCB7B376684848D486            2\n",
       "7172422                     2  1E9323CB6AD381FCB7B376684848D486            2\n",
       "7175943                     2  1E9323CB6AD381FCB7B376684848D486            2\n",
       "7221261                     2  1E9323CB6AD381FCB7B376684848D486            2\n",
       "7222011                     2  1E9323CB6AD381FCB7B376684848D486            2\n",
       "7222845                     2  1E9323CB6AD381FCB7B376684848D486            2\n",
       "7223192                     2  1E9323CB6AD381FCB7B376684848D486            2\n",
       "7223393                     2  1E9323CB6AD381FCB7B376684848D486            2\n",
       "7234637                     2  1E9323CB6AD381FCB7B376684848D486            2\n",
       "7235079                     2  1E9323CB6AD381FCB7B376684848D486            2\n",
       "7235317                     2  1E9323CB6AD381FCB7B376684848D486            2\n",
       "7236050                     2  1E9323CB6AD381FCB7B376684848D486            2\n",
       "7236465                     2  1E9323CB6AD381FCB7B376684848D486            2"
      ]
     },
     "execution_count": 16,
     "metadata": {},
     "output_type": "execute_result"
    }
   ],
   "source": [
    "alunos[alunos['ID_ALUNO'] == \"1E9323CB6AD381FCB7B376684848D486\"]"
   ]
  },
  {
   "cell_type": "code",
   "execution_count": 17,
   "metadata": {
    "colab": {
     "base_uri": "https://localhost:8080/",
     "height": 452
    },
    "id": "uzxByKYCtkbL",
    "outputId": "a2833539-fca2-499d-e708-99ea959f9c6e"
   },
   "outputs": [
    {
     "data": {
      "text/html": [
       "<div>\n",
       "<style scoped>\n",
       "    .dataframe tbody tr th:only-of-type {\n",
       "        vertical-align: middle;\n",
       "    }\n",
       "\n",
       "    .dataframe tbody tr th {\n",
       "        vertical-align: top;\n",
       "    }\n",
       "\n",
       "    .dataframe thead th {\n",
       "        text-align: right;\n",
       "    }\n",
       "</style>\n",
       "<table border=\"1\" class=\"dataframe\">\n",
       "  <thead>\n",
       "    <tr style=\"text-align: right;\">\n",
       "      <th></th>\n",
       "      <th>TP_MODALIDADE_ENSINO</th>\n",
       "      <th>ID_ALUNO</th>\n",
       "      <th>TP_SITUACAO</th>\n",
       "    </tr>\n",
       "  </thead>\n",
       "  <tbody>\n",
       "    <tr>\n",
       "      <th>1442184</th>\n",
       "      <td>2</td>\n",
       "      <td>1B4E3661691EF57DC103A876D7AFE0E6</td>\n",
       "      <td>2</td>\n",
       "    </tr>\n",
       "    <tr>\n",
       "      <th>1469562</th>\n",
       "      <td>2</td>\n",
       "      <td>1B4E3661691EF57DC103A876D7AFE0E6</td>\n",
       "      <td>2</td>\n",
       "    </tr>\n",
       "    <tr>\n",
       "      <th>3678863</th>\n",
       "      <td>2</td>\n",
       "      <td>1B4E3661691EF57DC103A876D7AFE0E6</td>\n",
       "      <td>2</td>\n",
       "    </tr>\n",
       "    <tr>\n",
       "      <th>3684649</th>\n",
       "      <td>2</td>\n",
       "      <td>1B4E3661691EF57DC103A876D7AFE0E6</td>\n",
       "      <td>2</td>\n",
       "    </tr>\n",
       "    <tr>\n",
       "      <th>3687062</th>\n",
       "      <td>2</td>\n",
       "      <td>1B4E3661691EF57DC103A876D7AFE0E6</td>\n",
       "      <td>2</td>\n",
       "    </tr>\n",
       "    <tr>\n",
       "      <th>7192974</th>\n",
       "      <td>2</td>\n",
       "      <td>1B4E3661691EF57DC103A876D7AFE0E6</td>\n",
       "      <td>2</td>\n",
       "    </tr>\n",
       "    <tr>\n",
       "      <th>7202723</th>\n",
       "      <td>2</td>\n",
       "      <td>1B4E3661691EF57DC103A876D7AFE0E6</td>\n",
       "      <td>2</td>\n",
       "    </tr>\n",
       "    <tr>\n",
       "      <th>7226741</th>\n",
       "      <td>2</td>\n",
       "      <td>1B4E3661691EF57DC103A876D7AFE0E6</td>\n",
       "      <td>2</td>\n",
       "    </tr>\n",
       "    <tr>\n",
       "      <th>7229020</th>\n",
       "      <td>2</td>\n",
       "      <td>1B4E3661691EF57DC103A876D7AFE0E6</td>\n",
       "      <td>2</td>\n",
       "    </tr>\n",
       "    <tr>\n",
       "      <th>7230519</th>\n",
       "      <td>2</td>\n",
       "      <td>1B4E3661691EF57DC103A876D7AFE0E6</td>\n",
       "      <td>2</td>\n",
       "    </tr>\n",
       "    <tr>\n",
       "      <th>7231646</th>\n",
       "      <td>2</td>\n",
       "      <td>1B4E3661691EF57DC103A876D7AFE0E6</td>\n",
       "      <td>2</td>\n",
       "    </tr>\n",
       "    <tr>\n",
       "      <th>7233524</th>\n",
       "      <td>2</td>\n",
       "      <td>1B4E3661691EF57DC103A876D7AFE0E6</td>\n",
       "      <td>2</td>\n",
       "    </tr>\n",
       "    <tr>\n",
       "      <th>8402488</th>\n",
       "      <td>2</td>\n",
       "      <td>1B4E3661691EF57DC103A876D7AFE0E6</td>\n",
       "      <td>3</td>\n",
       "    </tr>\n",
       "  </tbody>\n",
       "</table>\n",
       "</div>"
      ],
      "text/plain": [
       "         TP_MODALIDADE_ENSINO                          ID_ALUNO  TP_SITUACAO\n",
       "1442184                     2  1B4E3661691EF57DC103A876D7AFE0E6            2\n",
       "1469562                     2  1B4E3661691EF57DC103A876D7AFE0E6            2\n",
       "3678863                     2  1B4E3661691EF57DC103A876D7AFE0E6            2\n",
       "3684649                     2  1B4E3661691EF57DC103A876D7AFE0E6            2\n",
       "3687062                     2  1B4E3661691EF57DC103A876D7AFE0E6            2\n",
       "7192974                     2  1B4E3661691EF57DC103A876D7AFE0E6            2\n",
       "7202723                     2  1B4E3661691EF57DC103A876D7AFE0E6            2\n",
       "7226741                     2  1B4E3661691EF57DC103A876D7AFE0E6            2\n",
       "7229020                     2  1B4E3661691EF57DC103A876D7AFE0E6            2\n",
       "7230519                     2  1B4E3661691EF57DC103A876D7AFE0E6            2\n",
       "7231646                     2  1B4E3661691EF57DC103A876D7AFE0E6            2\n",
       "7233524                     2  1B4E3661691EF57DC103A876D7AFE0E6            2\n",
       "8402488                     2  1B4E3661691EF57DC103A876D7AFE0E6            3"
      ]
     },
     "execution_count": 17,
     "metadata": {},
     "output_type": "execute_result"
    }
   ],
   "source": [
    "alunos[alunos['ID_ALUNO'] == \"1B4E3661691EF57DC103A876D7AFE0E6\"]"
   ]
  },
  {
   "cell_type": "markdown",
   "metadata": {
    "id": "jCeyXCxnty4l"
   },
   "source": [
    "**Por fim, iremos olhar quantos alunos aparecem 2 ou mais vezes na base de dados. Esse valor estará indicado como True na função abaixo.**"
   ]
  },
  {
   "cell_type": "code",
   "execution_count": 18,
   "metadata": {
    "colab": {
     "base_uri": "https://localhost:8080/"
    },
    "id": "cpartHppt5tq",
    "outputId": "3efaf1d7-b8ba-4f08-9966-88425edc754c"
   },
   "outputs": [
    {
     "data": {
      "text/plain": [
       "False    6477456\n",
       "True      378374\n",
       "Name: ID_ALUNO, dtype: int64"
      ]
     },
     "execution_count": 18,
     "metadata": {},
     "output_type": "execute_result"
    }
   ],
   "source": [
    "alunos['ID_ALUNO'].duplicated().value_counts()"
   ]
  },
  {
   "cell_type": "markdown",
   "metadata": {},
   "source": [
    "# Pergunta 9\n",
    "\n",
    "### Qual o curso com maior desvio padrão em relação às idades dos matriculados?\n"
   ]
  },
  {
   "cell_type": "code",
   "execution_count": 19,
   "metadata": {},
   "outputs": [],
   "source": [
    "alumn_column = [\"CO_CINE_ROTULO\", \"NU_IDADE\"]\n",
    "alunos = pd.read_csv(r\"C:\\Users\\gmora\\OneDrive\\Área de Trabalho\\Faculdade\\CDD\\TP\\TreatedDfs\\Curated\\Aluno.csv\", index_col=False, header=0, usecols=alumn_column, dtype={\"CO_CINE_ROTULO\": str} )"
   ]
  },
  {
   "cell_type": "code",
   "execution_count": 20,
   "metadata": {},
   "outputs": [],
   "source": [
    "cine_columns = [\"CO_CINE_ROTULO\", \"NO_CINE_ROTULO\"]\n",
    "cine = pd.read_csv(r\"C:\\Users\\gmora\\OneDrive\\Área de Trabalho\\Faculdade\\CDD\\TP\\TreatedDfs\\Curated\\CINE.CSV\", index_col=False, header=0, usecols=cine_columns)"
   ]
  },
  {
   "cell_type": "code",
   "execution_count": 21,
   "metadata": {},
   "outputs": [],
   "source": [
    "alunos = alunos.merge(cine, on=\"CO_CINE_ROTULO\", how='left') # Demos um merge da tabela de alunos com a tabela de cine para pegar o nome do curso"
   ]
  },
  {
   "cell_type": "code",
   "execution_count": 22,
   "metadata": {},
   "outputs": [
    {
     "name": "stdout",
     "output_type": "stream",
     "text": [
      "                        NU_IDADE\n",
      "NO_CINE_ROTULO                  \n",
      "Comunicaτπo assistiva  18.193405\n"
     ]
    }
   ],
   "source": [
    "alunos_grouped = alunos.groupby(\"NO_CINE_ROTULO\").std() # Agrupamos pelo nome do curso e depois realizamos o desvio padrão\n",
    "std_max = alunos_grouped.max() # Maior desvio padrão\n",
    "\n",
    "print(alunos_grouped[alunos_grouped[\"NU_IDADE\"] == std_max[0]])"
   ]
  },
  {
   "cell_type": "markdown",
   "metadata": {},
   "source": [
    "# Pergunta 10\n",
    "\n",
    "### Quais os top 10 cursos que têm as idades médias mais baixas? E a mais altas?"
   ]
  },
  {
   "cell_type": "code",
   "execution_count": 23,
   "metadata": {},
   "outputs": [],
   "source": [
    "alunos_grouped = alunos.groupby(\"NO_CINE_ROTULO\").mean() # Agrupamos pelo nome do curso e depois realizamos a média\n",
    "mean_max = alunos_grouped.max() # Maior média\n",
    "mean_min = alunos_grouped.min() # Menor média"
   ]
  },
  {
   "cell_type": "code",
   "execution_count": 24,
   "metadata": {},
   "outputs": [
    {
     "name": "stdout",
     "output_type": "stream",
     "text": [
      "                                          NU_IDADE\n",
      "NO_CINE_ROTULO                                    \n",
      "CiΩncias da religiπo                     40.050228\n",
      "Educaτπo especial formaτπo de professor  39.789462\n",
      "Seguranτa no trΓnsito                    38.872881\n",
      "Podologia                                38.813048\n",
      "Produτπo de cerveja                      38.585624\n",
      "Gerontologia                             38.394387\n",
      "Teologia                                 38.182078\n",
      "Gestπo da sa·de                          37.508197\n",
      "Neg≤cios imobilißrios                    37.389013\n",
      "Ensino religioso formaτπo de professor   36.505843\n"
     ]
    }
   ],
   "source": [
    "top10Max = alunos_grouped.sort_values(by=\"NU_IDADE\", ascending=False).head(10) # Organização dos 10 cursos com maior média de idade\n",
    "\n",
    "print(top10Max)"
   ]
  },
  {
   "cell_type": "code",
   "execution_count": 25,
   "metadata": {},
   "outputs": [
    {
     "name": "stdout",
     "output_type": "stream",
     "text": [
      "                                                  NU_IDADE\n",
      "NO_CINE_ROTULO                                            \n",
      "ABI Engenharia, produτπo e construτπo            21.257483\n",
      "Engenharia de biotecnologia                      21.984169\n",
      "Engenharia de nanotecnologia                     22.129032\n",
      "Bioquφmica                                       22.278125\n",
      "ABI CiΩncias naturais, matemßtica e estatφstica  22.457541\n",
      "Engenharia de biossistemas                       22.485163\n",
      "Fφsica aplicada                                  22.493934\n",
      "Biotecnologia                                    22.688978\n",
      "Engenharia de bioprocessos                       22.756470\n",
      "Gestπo de neg≤cios internacionais                22.789548\n"
     ]
    }
   ],
   "source": [
    "top10Min = alunos_grouped.sort_values(by=\"NU_IDADE\", ascending=True).head(10) # Organização dos 10 cursos com menor média de idade\n",
    "\n",
    "print(top10Min)"
   ]
  }
 ],
 "metadata": {
  "interpreter": {
   "hash": "54ccaebadced9a3a65c790a821397dcedae60905347fd68185f7881edd617ae6"
  },
  "kernelspec": {
   "display_name": "Python 3.8.10 64-bit ('AmbienteCDD': venv)",
   "name": "python3"
  },
  "language_info": {
   "codemirror_mode": {
    "name": "ipython",
    "version": 3
   },
   "file_extension": ".py",
   "mimetype": "text/x-python",
   "name": "python",
   "nbconvert_exporter": "python",
   "pygments_lexer": "ipython3",
   "version": "3.8.10"
  },
  "orig_nbformat": 4
 },
 "nbformat": 4,
 "nbformat_minor": 2
}
