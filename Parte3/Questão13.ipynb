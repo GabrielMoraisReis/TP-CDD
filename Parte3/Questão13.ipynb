{
  "nbformat": 4,
  "nbformat_minor": 0,
  "metadata": {
    "colab": {
      "name": "Questão13",
      "provenance": [],
      "collapsed_sections": []
    },
    "kernelspec": {
      "name": "python3",
      "display_name": "Python 3"
    },
    "language_info": {
      "name": "python"
    }
  },
  "cells": [
    {
      "cell_type": "markdown",
      "metadata": {
        "id": "S-gVFAxy1E2Z"
      },
      "source": [
        "# **Pergunta 13**\n",
        "\n",
        "**Para responder essa pergunta, mostramos qual o curso com maior valor de alunos que participam de projetos de extensão, e também o valorproporcional a quantidade de alunos por curso.**"
      ]
    },
    {
      "cell_type": "code",
      "metadata": {
        "id": "m73cIGwZLjOI"
      },
      "source": [
        "import pandas as pd\n",
        "import numpy as np\n",
        "import matplotlib.pyplot as plt\n",
        "import seaborn as sns"
      ],
      "execution_count": 92,
      "outputs": []
    },
    {
      "cell_type": "code",
      "metadata": {
        "id": "hNIBvMZKNmnK"
      },
      "source": [
        "cine_column = [\"CO_CINE_ROTULO\", \"NO_CINE_ROTULO\"]\n",
        "cine = pd.read_csv(\"/content/drive/MyDrive/microdados_educacao_superior_2019/Microdados_Educação_Superior_2019\"+\n",
        "\"/dados/TB_AUX_CINE_BRASIL_2019.CSV\", index_col=False, header=0, encoding=\"cp860\", sep ='|')"
      ],
      "execution_count": 93,
      "outputs": []
    },
    {
      "cell_type": "code",
      "metadata": {
        "id": "La2Z2DhPP9Gq"
      },
      "source": [
        "alumn_column = [\"ID_ALUNO\", \"IN_COMPLEMENTAR_EXTENSAO\", \"CO_CINE_ROTULO\"]\n",
        "Talunos = pd.read_csv(r\"/content/drive/MyDrive/Curated/Aluno.csv\", index_col=False, header=0, usecols=alumn_column)"
      ],
      "execution_count": null,
      "outputs": []
    },
    {
      "cell_type": "code",
      "metadata": {
        "colab": {
          "base_uri": "https://localhost:8080/"
        },
        "id": "-7B_yYSBWfmJ",
        "outputId": "264653aa-8ab1-401b-e7e7-0c76fe039da2"
      },
      "source": [
        "cine[\"CO_CINE_ROTULO\"] = cine.CO_CINE_ROTULO.astype(str)\n",
        "Talunos[\"CO_CINE_ROTULO\"] = Talunos.CO_CINE_ROTULO.astype(str)\n",
        "\n",
        "alunos = Talunos.merge(cine, on=\"CO_CINE_ROTULO\", how='left')\n",
        "# O merge é feito para adicionar a coluna NO_CINE_ROTULO, que contém o nome dos cursos correspondentes aos seus códigos.\n",
        "totalAlunos = alunos['NO_CINE_ROTULO'].value_counts()\n",
        "totalAlunos\n",
        "# Variável utilizada para organização do código, e que possui as informações de quantos alunos cada curso possui."
      ],
      "execution_count": 95,
      "outputs": [
        {
          "output_type": "execute_result",
          "data": {
            "text/plain": [
              "Pedagogia                               815369\n",
              "Direito                                 811884\n",
              "Administraτπo                           718824\n",
              "Contabilidade                           399634\n",
              "Enfermagem                              315745\n",
              "                                         ...  \n",
              "Engenharia bioenergΘtica                     7\n",
              "Letras japonΩs                               6\n",
              "Comunicaτπo assistiva                        3\n",
              "AssistΩncia a idosos e a deficientes         1\n",
              "Rochas ornamentais                           1\n",
              "Name: NO_CINE_ROTULO, Length: 335, dtype: int64"
            ]
          },
          "metadata": {},
          "execution_count": 95
        }
      ]
    },
    {
      "cell_type": "code",
      "metadata": {
        "id": "JRggnaEao2iE"
      },
      "source": [
        "valid_situation = [1]\n",
        "result = alunos[alunos['IN_COMPLEMENTAR_EXTENSAO'].isin(valid_situation)]\n",
        "# Realiza uma seleção que nos retorna quais alunos estão participando de projetos de extensão."
      ],
      "execution_count": 96,
      "outputs": []
    },
    {
      "cell_type": "markdown",
      "metadata": {
        "id": "E_uhOfGK2QO3"
      },
      "source": [
        "**Aqui é mostrado que 105452 alunos de direito participam de projetos de extensão, e também há um gráfico com os 19 outros cursos com maior número de alunos participando de projetos de extensão.**"
      ]
    },
    {
      "cell_type": "code",
      "metadata": {
        "colab": {
          "base_uri": "https://localhost:8080/"
        },
        "id": "B82u-vtpXN6f",
        "outputId": "c1595c6b-fa12-4909-9e50-afdbe53ea7ab"
      },
      "source": [
        "primeirosCursos = result['NO_CINE_ROTULO'].value_counts().iloc[:20]\n",
        "result['NO_CINE_ROTULO'].value_counts()\n",
        "# Mostra quantos alunos estão participando de projetos de extensão por curso."
      ],
      "execution_count": 97,
      "outputs": [
        {
          "output_type": "execute_result",
          "data": {
            "text/plain": [
              "Direito                    105452\n",
              "Pedagogia                   79432\n",
              "Administraτπo               75614\n",
              "Enfermagem                  44806\n",
              "Contabilidade               43961\n",
              "                            ...  \n",
              "Processos metal·rgicos          1\n",
              "Energias renovßveis             1\n",
              "Manutenτπo de aeronaves         1\n",
              "Agrimensura                     1\n",
              "Letras inglΩs                   1\n",
              "Name: NO_CINE_ROTULO, Length: 275, dtype: int64"
            ]
          },
          "metadata": {},
          "execution_count": 97
        }
      ]
    },
    {
      "cell_type": "code",
      "metadata": {
        "colab": {
          "base_uri": "https://localhost:8080/",
          "height": 467
        },
        "id": "qv2def2K12sz",
        "outputId": "0d29702b-d213-4ae7-ad12-0123bf6d1594"
      },
      "source": [
        "sns.barplot(x=list(primeirosCursos.keys()), y=list(dict(primeirosCursos).values()))\n",
        "plt.xticks(rotation=90)\n",
        "plt.ylabel(\"Alunos em projeto de extensão\")\n",
        "plt.xlabel(\"Cursos\")\n",
        "plt.show()\n",
        "# Gráfico de barras para mostrar os 20 cursos com mais alunos participando de projetos de extensão."
      ],
      "execution_count": 101,
      "outputs": [
        {
          "output_type": "display_data",
          "data": {
            "image/png": "[encoded data removed]",
            "text/plain": [
              "<Figure size 432x288 with 1 Axes>"
            ]
          },
          "metadata": {
            "needs_background": "light"
          }
        }
      ]
    },
    {
      "cell_type": "markdown",
      "metadata": {
        "id": "XTEgiXJd2wgU"
      },
      "source": [
        "**Já aqui, podemos ver que 100% dos alunos do curso de produção de cerveja participam de projetos de extensão.**"
      ]
    },
    {
      "cell_type": "code",
      "metadata": {
        "colab": {
          "base_uri": "https://localhost:8080/"
        },
        "id": "zhpRvVxWbfYo",
        "outputId": "7ad663cb-5b84-4684-f21d-b1e07dba2a4f"
      },
      "source": [
        "extensao = result['NO_CINE_ROTULO'].value_counts()\n",
        "relacao = extensao/totalAlunos  #Foi verificado que esta divisão nos retorna o resultado esperado.\n",
        "relacao.sort_values(ascending=(False)) * 100"
      ],
      "execution_count": 102,
      "outputs": [
        {
          "output_type": "execute_result",
          "data": {
            "text/plain": [
              "Produτπo de cerveja                 100.000000\n",
              "Podologia                            70.394737\n",
              "Enfermagem formaτπo de professor     59.784946\n",
              "Psicopedagogia                       48.911353\n",
              "Defesa cibernΘtica                   42.473746\n",
              "                                       ...    \n",
              "Soldagem                                   NaN\n",
              "Telemßtica                                 NaN\n",
              "Toxicologia                                NaN\n",
              "Transporte aΘreo                           NaN\n",
              "Transporte terrestre                       NaN\n",
              "Name: NO_CINE_ROTULO, Length: 335, dtype: float64"
            ]
          },
          "metadata": {},
          "execution_count": 102
        }
      ]
    }
  ]
}