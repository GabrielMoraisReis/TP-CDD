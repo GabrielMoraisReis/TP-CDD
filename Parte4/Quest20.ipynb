{
 "cells": [
  {
   "cell_type": "code",
   "execution_count": 26,
   "metadata": {},
   "outputs": [],
   "source": [
    "import pandas as pd\n",
    "import numpy as np\n",
    "import matplotlib.pyplot as plt\n",
    "import seaborn as sns\n",
    "from copy import deepcopy\n",
    "from sklearn.model_selection import train_test_split\n",
    "from sklearn.naive_bayes import BernoulliNB\n",
    "from sklearn.metrics import classification_report"
   ]
  },
  {
   "cell_type": "code",
   "execution_count": 27,
   "metadata": {},
   "outputs": [],
   "source": [
    "header = pd.read_csv(r\"C:\\Users\\gmora\\OneDrive\\Área de Trabalho\\Faculdade\\CDD\\TP\\TreatedDfs\\Curated\\Aluno.csv\", header=0, nrows=1)"
   ]
  },
  {
   "cell_type": "markdown",
   "metadata": {},
   "source": [
    "## Exibe a lista de colunas que podem ser usadas como características.\n",
    "*Apenas as colunas com valor númerico são disponibilizadas aqui"
   ]
  },
  {
   "cell_type": "code",
   "execution_count": 28,
   "metadata": {},
   "outputs": [
    {
     "data": {
      "text/plain": [
       "['CO_IES',\n",
       " 'TP_CATEGORIA_ADMINISTRATIVA',\n",
       " 'TP_ORGANIZACAO_ACADEMICA',\n",
       " 'CO_CURSO',\n",
       " 'CO_CURSO_POLO',\n",
       " 'TP_MODALIDADE_ENSINO',\n",
       " 'CO_ALUNO_CURSO',\n",
       " 'CO_ALUNO_CURSO_ORIGEM',\n",
       " 'TP_COR_RACA',\n",
       " 'TP_SEXO',\n",
       " 'NU_IDADE',\n",
       " 'IN_DEFICIENCIA',\n",
       " 'IN_TGD_SINDROME_ASPERGER',\n",
       " 'TP_SITUACAO',\n",
       " 'QT_CARGA_HORARIA_INTEG',\n",
       " 'IN_INGRESSO_VESTIBULAR',\n",
       " 'IN_INGRESSO_ENEM',\n",
       " 'IN_INGRESSO_AVALIACAO_SERIADA',\n",
       " 'IN_INGRESSO_SELECAO_SIMPLIFICA',\n",
       " 'IN_INGRESSO_OUTRO_TIPO_SELECAO',\n",
       " 'IN_INGRESSO_VAGA_REMANESC',\n",
       " 'IN_INGRESSO_VAGA_PROG_ESPECIAL',\n",
       " 'IN_INGRESSO_TRANSF_EXOFFICIO',\n",
       " 'IN_INGRESSO_DECISAO_JUDICIAL',\n",
       " 'IN_INGRESSO_CONVENIO_PECG',\n",
       " 'IN_INGRESSO_EGRESSO',\n",
       " 'IN_INGRESSO_OUTRA_FORMA',\n",
       " 'IN_RESERVA_VAGAS',\n",
       " 'IN_RESERVA_ETNICO',\n",
       " 'IN_RESERVA_DEFICIENCIA',\n",
       " 'IN_RESERVA_ENSINO_PUBLICO',\n",
       " 'IN_RESERVA_RENDA_FAMILIAR',\n",
       " 'IN_RESERVA_OUTRA',\n",
       " 'IN_FIN_REEMB_MUNICIPAL',\n",
       " 'IN_COMPLEMENTAR_EXTENSAO',\n",
       " 'TP_SEMESTRE_CONCLUSAO',\n",
       " 'IN_MOBILIDADE_ACADEMICA',\n",
       " 'CO_IES_DESTINO',\n",
       " 'IN_MATRICULA',\n",
       " 'IN_CONCLUINTE',\n",
       " 'IN_INGRESSO_TOTAL',\n",
       " 'IN_INGRESSO_PROCESSO_SELETIVO']"
      ]
     },
     "execution_count": 28,
     "metadata": {},
     "output_type": "execute_result"
    }
   ],
   "source": [
    "list(header.drop([\"NU_ANO_CENSO\", \"CO_CINE_ROTULO\", \"DT_INGRESSO_CURSO\", \"ID_ALUNO\"], axis=1).columns)"
   ]
  },
  {
   "cell_type": "markdown",
   "metadata": {},
   "source": [
    "### Aqui, o usuário digita quais colunas deseja usar. Os nomes digitados devem ser iguais aos apresentados nas lista acima"
   ]
  },
  {
   "cell_type": "code",
   "execution_count": 44,
   "metadata": {},
   "outputs": [
    {
     "name": "stdout",
     "output_type": "stream",
     "text": [
      "Colunas que serão utilizadas: ['IN_INGRESSO_VESTIBULAR', 'IN_INGRESSO_ENEM', 'IN_INGRESSO_SELECAO_SIMPLIFICA']\n"
     ]
    }
   ],
   "source": [
    "column = \"\"\n",
    "column_list = []\n",
    "while True:\n",
    "    column = input(\"Digite o nome da coluna que deseja usar (para não adicionar mais colunas digite 0)\")\n",
    "    if column !=\"0\":\n",
    "        if column not in header:\n",
    "            print(\"Coluna inválida\")\n",
    "        else:\n",
    "            column_list.append(column)\n",
    "    else:\n",
    "        break\n",
    "print(\"Colunas que serão utilizadas:\", column_list)"
   ]
  },
  {
   "cell_type": "markdown",
   "metadata": {},
   "source": [
    "## Leitura da base de alunos é feita somente nas colunas selecionadas pelo usuário, pois a base é muito grande para ser lida por completo"
   ]
  },
  {
   "cell_type": "code",
   "execution_count": 45,
   "metadata": {},
   "outputs": [],
   "source": [
    "final_columns = deepcopy(column_list)\n",
    "final_columns.append(\"CO_CINE_ROTULO\")\n",
    "alunos = pd.read_csv(r\"C:\\Users\\gmora\\OneDrive\\Área de Trabalho\\Faculdade\\CDD\\TP\\TreatedDfs\\Curated\\Aluno.csv\", header=0, usecols=final_columns, dtype={\"CO_CINE_ROTULO\": str})\n",
    "cine = pd.read_csv(r\"C:\\Users\\gmora\\OneDrive\\Área de Trabalho\\Faculdade\\CDD\\TP\\TreatedDfs\\Curated\\CINE.csv\", header=0, usecols=[\"CO_CINE_ROTULO\", \"NO_CINE_AREA_GERAL\", \"CO_CINE_AREA_GERAL\"], dtype={\"CO_CINE_ROTULO\": str})\n",
    "alunos = alunos.merge(cine, on=\"CO_CINE_ROTULO\", how='left')"
   ]
  },
  {
   "cell_type": "markdown",
   "metadata": {},
   "source": [
    "## O Naive Bayes não aceita valores nulos em sua análise, então dropamos todas as linhas que possuam qualquer linha com valor NaN"
   ]
  },
  {
   "cell_type": "code",
   "execution_count": 46,
   "metadata": {},
   "outputs": [],
   "source": [
    "alunos.dropna(how='any', inplace=True)"
   ]
  },
  {
   "cell_type": "markdown",
   "metadata": {},
   "source": [
    "Divisão em conjunto de teste e treino"
   ]
  },
  {
   "cell_type": "code",
   "execution_count": 47,
   "metadata": {},
   "outputs": [],
   "source": [
    "X_train,X_test,Y_train,Y_test = train_test_split(\n",
    "                alunos[column_list],\n",
    "                alunos[\"CO_CINE_AREA_GERAL\"],\n",
    "                test_size=0.2, random_state=0)\n"
   ]
  },
  {
   "cell_type": "markdown",
   "metadata": {},
   "source": [
    "### Optamos por utilizar Naive Bayes por ser mais rápido para grandes conjuntos de dados"
   ]
  },
  {
   "cell_type": "code",
   "execution_count": 48,
   "metadata": {},
   "outputs": [
    {
     "name": "stderr",
     "output_type": "stream",
     "text": [
      "c:\\Users\\gmora\\OneDrive\\Área de Trabalho\\Faculdade\\CDD\\AmbienteCDD\\lib\\site-packages\\sklearn\\metrics\\_classification.py:1248: UndefinedMetricWarning: Precision and F-score are ill-defined and being set to 0.0 in labels with no predicted samples. Use `zero_division` parameter to control this behavior.\n",
      "  _warn_prf(average, modifier, msg_start, len(result))\n",
      "c:\\Users\\gmora\\OneDrive\\Área de Trabalho\\Faculdade\\CDD\\AmbienteCDD\\lib\\site-packages\\sklearn\\metrics\\_classification.py:1248: UndefinedMetricWarning: Precision and F-score are ill-defined and being set to 0.0 in labels with no predicted samples. Use `zero_division` parameter to control this behavior.\n",
      "  _warn_prf(average, modifier, msg_start, len(result))\n"
     ]
    },
    {
     "name": "stdout",
     "output_type": "stream",
     "text": [
      "              precision    recall  f1-score   support\n",
      "\n",
      "         0.0       0.00      0.00      0.00     10001\n",
      "         1.0       0.30      0.00      0.01    362040\n",
      "         2.0       0.00      0.00      0.00     44582\n",
      "         3.0       0.00      0.00      0.00     99586\n",
      "         4.0       0.32      1.00      0.49    614482\n",
      "         5.0       0.00      0.00      0.00     26624\n",
      "         6.0       0.00      0.00      0.00     86261\n",
      "         7.0       0.00      0.00      0.00    237980\n",
      "         8.0       0.00      0.00      0.00     56933\n",
      "         9.0       0.00      0.00      0.00    320088\n",
      "        10.0       0.00      0.00      0.00     42489\n",
      "\n",
      "    accuracy                           0.32   1901066\n",
      "   macro avg       0.06      0.09      0.05   1901066\n",
      "weighted avg       0.16      0.32      0.16   1901066\n",
      "\n"
     ]
    },
    {
     "name": "stderr",
     "output_type": "stream",
     "text": [
      "c:\\Users\\gmora\\OneDrive\\Área de Trabalho\\Faculdade\\CDD\\AmbienteCDD\\lib\\site-packages\\sklearn\\metrics\\_classification.py:1248: UndefinedMetricWarning: Precision and F-score are ill-defined and being set to 0.0 in labels with no predicted samples. Use `zero_division` parameter to control this behavior.\n",
      "  _warn_prf(average, modifier, msg_start, len(result))\n"
     ]
    }
   ],
   "source": [
    "nb=BernoulliNB()\n",
    "nb.fit(X_train, Y_train)\n",
    "print(classification_report(Y_test,nb.predict(X_test)))"
   ]
  },
  {
   "cell_type": "code",
   "execution_count": 49,
   "metadata": {},
   "outputs": [
    {
     "name": "stdout",
     "output_type": "stream",
     "text": [
      "Valores possiveis para a coluna IN_INGRESSO_VESTIBULAR\n",
      "[0 1]\n",
      "Valores possiveis para a coluna IN_INGRESSO_ENEM\n",
      "[1 0]\n",
      "Valores possiveis para a coluna IN_INGRESSO_SELECAO_SIMPLIFICA\n",
      "[0 1]\n",
      "Valores escolhidos:\n",
      " [0, 1, 0]\n"
     ]
    }
   ],
   "source": [
    "columns_value = []\n",
    "for i in column_list:\n",
    "    print(\"Valores possiveis para a coluna\", i)\n",
    "    print(alunos[i].unique())\n",
    "    value = int(input(\"Digite qual valor deseja\"))\n",
    "    if value in list(alunos[i].unique()):\n",
    "        columns_value.append(value)\n",
    "    else:\n",
    "        print(\"Valor inválido\")\n",
    "        break\n",
    "print(\"Valores escolhidos:\\n\", columns_value)"
   ]
  },
  {
   "cell_type": "code",
   "execution_count": 51,
   "metadata": {},
   "outputs": [
    {
     "name": "stdout",
     "output_type": "stream",
     "text": [
      "[4.]\n",
      "[4.]\n",
      "[4.]\n",
      "[4.]\n",
      "[4.]\n",
      "[4.]\n",
      "[4.]\n",
      "[4.]\n",
      "[4.]\n",
      "[4.]\n",
      "[4.]\n",
      "[4.]\n",
      "[4.]\n",
      "[4.]\n",
      "[4.]\n",
      "[4.]\n",
      "[4.]\n",
      "[4.]\n",
      "[4.]\n",
      "[4.]\n",
      "[4.]\n",
      "[4.]\n",
      "[4.]\n",
      "[4.]\n",
      "[4.]\n",
      "[4.]\n",
      "[4.]\n",
      "[4.]\n",
      "[4.]\n",
      "[4.]\n",
      "[4.]\n",
      "[4.]\n",
      "[4.]\n",
      "[4.]\n",
      "[4.]\n",
      "[4.]\n",
      "[4.]\n",
      "[4.]\n",
      "[4.]\n",
      "[4.]\n",
      "[4.]\n",
      "[4.]\n"
     ]
    }
   ],
   "source": [
    "for i in range(18, 60):\n",
    "    columns_value[0] = i\n",
    "    print(nb.predict([columns_value]))"
   ]
  }
 ],
 "metadata": {
  "interpreter": {
   "hash": "54ccaebadced9a3a65c790a821397dcedae60905347fd68185f7881edd617ae6"
  },
  "kernelspec": {
   "display_name": "Python 3.8.10 64-bit ('AmbienteCDD': venv)",
   "name": "python3"
  },
  "language_info": {
   "codemirror_mode": {
    "name": "ipython",
    "version": 3
   },
   "file_extension": ".py",
   "mimetype": "text/x-python",
   "name": "python",
   "nbconvert_exporter": "python",
   "pygments_lexer": "ipython3",
   "version": "3.8.10"
  },
  "orig_nbformat": 4
 },
 "nbformat": 4,
 "nbformat_minor": 2
}
