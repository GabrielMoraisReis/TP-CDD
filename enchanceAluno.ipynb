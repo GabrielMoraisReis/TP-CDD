{
 "cells": [
  {
   "cell_type": "code",
   "execution_count": 6,
   "source": [
    "import pandas as pd\r\n",
    "import numpy as np"
   ],
   "outputs": [],
   "metadata": {}
  },
  {
   "cell_type": "code",
   "execution_count": 7,
   "source": [
    "used_columns = ['NU_ANO_CENSO', 'CO_IES', 'TP_CATEGORIA_ADMINISTRATIVA', 'TP_ORGANIZACAO_ACADEMICA', 'CO_CURSO', 'CO_CURSO_POLO', 'TP_MODALIDADE_ENSINO', 'CO_CINE_ROTULO', 'ID_ALUNO', 'CO_ALUNO_CURSO', 'CO_ALUNO_CURSO_ORIGEM', 'TP_COR_RACA', 'TP_SEXO', 'NU_IDADE', 'IN_DEFICIENCIA', 'IN_TGD_SINDROME_ASPERGER', 'TP_SITUACAO', 'QT_CARGA_HORARIA_INTEG', 'DT_INGRESSO_CURSO', 'IN_INGRESSO_VESTIBULAR', 'IN_INGRESSO_ENEM', 'IN_INGRESSO_AVALIACAO_SERIADA', 'IN_INGRESSO_SELECAO_SIMPLIFICA', 'IN_INGRESSO_OUTRO_TIPO_SELECAO', 'IN_INGRESSO_VAGA_REMANESC', 'IN_INGRESSO_VAGA_PROG_ESPECIAL', 'IN_INGRESSO_TRANSF_EXOFFICIO', 'IN_INGRESSO_DECISAO_JUDICIAL', 'IN_INGRESSO_CONVENIO_PECG', 'IN_INGRESSO_EGRESSO', 'IN_INGRESSO_OUTRA_FORMA', 'IN_RESERVA_VAGAS', 'IN_RESERVA_ETNICO', 'IN_RESERVA_DEFICIENCIA', 'IN_RESERVA_ENSINO_PUBLICO', 'IN_RESERVA_RENDA_FAMILIAR', 'IN_RESERVA_OUTRA', 'IN_FIN_REEMB_MUNICIPAL', 'IN_COMPLEMENTAR_EXTENSAO', 'TP_SEMESTRE_CONCLUSAO', 'IN_MOBILIDADE_ACADEMICA', 'CO_IES_DESTINO', 'IN_MATRICULA', 'IN_CONCLUINTE', 'IN_INGRESSO_PROCESSO_SELETIVO']\r\n",
    "csv = \"Microdados_Educação_Superior_2019\\dados\\SUP_ALUNO_2019.CSV\"\r\n",
    "df = pd.read_csv(csv, sep ='|', index_col=False, header=0, encoding=\"cp860\", usecols=used_columns, chunksize=100000) #le blocos de 100000 linhas contendo apenas as colunas necessárias"
   ],
   "outputs": [],
   "metadata": {}
  },
  {
   "cell_type": "code",
   "execution_count": 8,
   "source": [
    "chunk_list = []\r\n",
    "for chunk in df:\r\n",
    "    chunk = chunk.drop_duplicates()\r\n",
    "    chunk_list.append(chunk)\r\n",
    "df_concat = pd.concat(chunk_list)\r\n",
    "df_concat.to_csv(\"TreatedDfs/enchacedaluno.csv\", sep=\",\", index=False, chunksize=10000)"
   ],
   "outputs": [
    {
     "output_type": "stream",
     "name": "stderr",
     "text": [
      "c:\\Users\\gmora\\OneDrive\\Área de Trabalho\\Faculdade\\CDD\\AmbienteCDD\\lib\\site-packages\\IPython\\core\\interactiveshell.py:3361: DtypeWarning: Columns (10) have mixed types.Specify dtype option on import or set low_memory=False.\n",
      "  if (await self.run_code(code, result,  async_=asy)):\n"
     ]
    }
   ],
   "metadata": {}
  }
 ],
 "metadata": {
  "orig_nbformat": 4,
  "language_info": {
   "name": "python",
   "version": "3.8.10",
   "mimetype": "text/x-python",
   "codemirror_mode": {
    "name": "ipython",
    "version": 3
   },
   "pygments_lexer": "ipython3",
   "nbconvert_exporter": "python",
   "file_extension": ".py"
  },
  "kernelspec": {
   "name": "python3",
   "display_name": "Python 3.8.10 64-bit ('AmbienteCDD': venv)"
  },
  "interpreter": {
   "hash": "54ccaebadced9a3a65c790a821397dcedae60905347fd68185f7881edd617ae6"
  }
 },
 "nbformat": 4,
 "nbformat_minor": 2
}