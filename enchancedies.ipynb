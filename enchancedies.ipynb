{
 "cells": [
  {
   "cell_type": "code",
   "execution_count": 20,
   "source": [
    "import pandas as pd\r\n",
    "import numpy as np\r\n",
    "\r\n",
    "df = pd.read_csv(\"Microdados_Educação_Superior_2019\\dados\\SUP_IES_2019.CSV\", sep='|', index_col=False, header=0, encoding=\"cp860\")"
   ],
   "outputs": [],
   "metadata": {}
  },
  {
   "cell_type": "code",
   "execution_count": 21,
   "source": [
    "labels = [\"CO_MANTENEDORA\", \"NO_MANTENEDORA\", \"QT_TEC_FUNDAMENTAL_INCOMP_FEM\", \"QT_TEC_FUNDAMENTAL_INCOMP_MASC\", \"QT_TEC_FUNDAMENTAL_COMP_FEM\", \"QT_TEC_FUNDAMENTAL_COMP_MASC\", \"QT_TEC_MEDIO_FEM\", \"QT_TEC_MEDIO_MASC\", \"QT_TEC_SUPERIOR_FEM\", \"QT_TEC_SUPERIOR_MASC\", \"QT_TEC_ESPECIALIZACAO_FEM\", \"QT_TEC_ESPECIALIZACAO_MASC\", \"QT_TEC_MESTRADO_FEM\", \"QT_TEC_MESTRADO_MASC\", \"QT_TEC_DOUTORADO_FEM\", \"QT_TEC_DOUTORADO_MASC\", \"IN_ACESSO_PORTAL_CAPES\", \"IN_ACESSO_OUTRAS_BASES\", \"IN_ASSINA_OUTRA_BASE\", \"IN_REPOSITORIO_INSTITUCIONAL\", \"IN_BUSCA_INTEGRADA\", \"IN_SERVICO_INTERNET\", \"IN_PARTICIPA_REDE_SOCIAL\", \"IN_CATALOGO_ONLINE\", \"QT_PERIODICO_ELETRONICO\", \"QT_LIVRO_ELETRONICO\", \"TP_REFERENTE\", \"VL_RECEITA_PROPRIA\", \"VL_RECEITA_TRANSFERENCIA\", \"VL_RECEITA_OUTRA\", \"VL_DESPESA_PESSOAL_DOCENTE\", \"VL_DESPESA_PESSOAL_TECNICO\", \"VL_DESPESA_PESSOAL_ENCARGO\", \"VL_DESPESA_CUSTEIO\", \"VL_DESPESA_INVESTIMENTO\", \"VL_DESPESA_PESQUISA\", \"VL_DESPESA_OUTRA\"]\r\n",
    "df = df.drop(labels=labels, axis=1) #remove as colunas não necessárias"
   ],
   "outputs": [],
   "metadata": {}
  },
  {
   "cell_type": "code",
   "execution_count": 22,
   "source": [
    "df = df.drop_duplicates()"
   ],
   "outputs": [],
   "metadata": {}
  },
  {
   "cell_type": "code",
   "execution_count": 23,
   "source": [
    "df.to_csv(\"TreatedDfs/enchacedies.csv\", sep=\",\", index=False)"
   ],
   "outputs": [],
   "metadata": {}
  }
 ],
 "metadata": {
  "orig_nbformat": 4,
  "language_info": {
   "name": "python",
   "version": "3.8.10",
   "mimetype": "text/x-python",
   "codemirror_mode": {
    "name": "ipython",
    "version": 3
   },
   "pygments_lexer": "ipython3",
   "nbconvert_exporter": "python",
   "file_extension": ".py"
  },
  "kernelspec": {
   "name": "python3",
   "display_name": "Python 3.8.10 64-bit ('AmbienteCDD': venv)"
  },
  "interpreter": {
   "hash": "54ccaebadced9a3a65c790a821397dcedae60905347fd68185f7881edd617ae6"
  }
 },
 "nbformat": 4,
 "nbformat_minor": 2
}